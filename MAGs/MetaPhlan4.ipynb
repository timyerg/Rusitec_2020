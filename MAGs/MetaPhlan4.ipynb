{
 "cells": [
  {
   "cell_type": "markdown",
   "id": "045b4659-b865-4fba-9aae-f047272b49ba",
   "metadata": {},
   "source": [
    "# Install dependencies for the Biobakery pipeline (if not already installed)\n",
    "\n",
    "```\n",
    "conda create -n Biobakery python=3.7 -y\n",
    "conda activate Biobakery\n",
    "pip install metaphlan\n",
    "pip install humann\n",
    "```\n"
   ]
  },
  {
   "cell_type": "markdown",
   "id": "lightweight-strand",
   "metadata": {},
   "source": [
    "# Declare variables and binac function\n",
    "## Always run it before other cells in the notebook"
   ]
  },
  {
   "cell_type": "code",
   "execution_count": 1,
   "id": "muslim-carry",
   "metadata": {
    "tags": []
   },
   "outputs": [
    {
     "name": "stdout",
     "output_type": "stream",
     "text": [
      "Number of clean samples:  52\n",
      "List of clean samples:\n",
      "1 100 102 104 106 108 11 110 123 124 125 126 127 128 129 13 130 131 132 133 134 15 17 19 21 23 25 27 29 31 4 44 45 46 47 48 49 50 51 52 53 54 55 80 83 88 9 90 92 94 96 98\n"
     ]
    }
   ],
   "source": [
    "### VARIABLES ###\n",
    "\n",
    "# Provide variables here\n",
    "WS = '/beegfs/work/graaf20/Rstc2020' # working space for this project\n",
    "DB = '/beegfs/work/graaf20/Databases/' # path for databases\n",
    "OUT = 'Biobakery' # biobakery outdir \n",
    "MPV = 'MetaPhlan_4_6'\n",
    "HMV = 'Humann_3_7'\n",
    "CONDA = '$HOME/miniconda3/etc/profile.d/conda.sh' # change if different\n",
    "LOGIN = 'ho_graaf20' # your login in Binac\n",
    "\n",
    "### Do not change from here ###\n",
    "RR = 'Raw_reads/'\n",
    "CR = 'Pooled/'\n",
    "STATS = 'Reports/'\n",
    "\n",
    "##################### DO NOT CHANGE ################################\n",
    "import os\n",
    "import pandas as pd\n",
    "\n",
    "params = '''\n",
    "#PBS -l nodes={nodes}:ppn={ppn}\n",
    "#PBS -l walltime={time}\n",
    "#PBS -l mem={mem}gb\n",
    "#PBS -N {name}.sh\n",
    "#PBS -q {queue}\n",
    "#PBS -S /bin/bash\n",
    "export TMPDIR=$TMPDIR\n",
    "''' \n",
    "\n",
    "source = f'source {CONDA}'\n",
    "\n",
    "VARS = (\n",
    "f'WS={WS}\\n'\n",
    "f'RR={RR}\\n'\n",
    "f'CR={CR}\\n'\n",
    "f'DB={DB}\\n'\n",
    "f'MPV={MPV}\\n'\n",
    "f'HMV={HMV}\\n'\n",
    "f'STATS={STATS}\\n'\n",
    "f'OUT={OUT}\\n')\n",
    "\n",
    "COMM = '#Custom variables and commands\\n{todo}'\n",
    "STRING = '\\n'.join([params, source, VARS, COMM])\n",
    "\n",
    "# binac function that will submit the job to server\n",
    "def binac(nodes = 1, ppn = 1, time = '00:15:00', mem = 2, name = 'myjob',\n",
    "          queue = 'tiny', todo = 'echo \"Command\"', STRING = STRING):\n",
    "    text = STRING\n",
    "    if '{nodes}' in STRING:\n",
    "        text = STRING.format(nodes = nodes, ppn = ppn, time = time,\n",
    "               mem = mem, name = name, queue = queue, todo = todo)\n",
    "    script = f'{name}.sh'\n",
    "    with open(script, \"w\") as text_file:\n",
    "        text_file.write(text)\n",
    "    !chmod +x $script\n",
    "    !qsub $script\n",
    "    \n",
    "\n",
    "# Create list of file indexes to access it later\n",
    "clean = !rm -r */.ipynb_checkpoints\n",
    "samples = []\n",
    "if os.path.exists(CR): \n",
    "    samples = [f.split('_')[0] for f in os.listdir(CR) if any(['fq' in f,'fastq' in f])]\n",
    "    samples = sorted(list(set(samples)))\n",
    "print('Number of clean samples: ', len(samples))\n",
    "if samples != []:\n",
    "    print('List of clean samples:')\n",
    "    print(*samples)"
   ]
  },
  {
   "cell_type": "markdown",
   "id": "7fb6d344-90fa-4b4d-bed5-588b7b4db37a",
   "metadata": {
    "tags": []
   },
   "source": [
    "# Biobakery"
   ]
  },
  {
   "cell_type": "markdown",
   "id": "bc3a726c-9ffb-4a89-8a55-08ed03545d6f",
   "metadata": {
    "tags": []
   },
   "source": [
    "## Install databases"
   ]
  },
  {
   "cell_type": "code",
   "execution_count": 17,
   "id": "aa7c5d63-638c-4000-9984-0034d43aa9fc",
   "metadata": {},
   "outputs": [],
   "source": [
    "!rm -rf ../Databases/Humann3_6 ../Databases/MetaPhlan4"
   ]
  },
  {
   "cell_type": "code",
   "execution_count": 19,
   "id": "200861b6-6cc2-4ad6-b865-ba4c7c5500d2",
   "metadata": {
    "tags": []
   },
   "outputs": [
    {
     "name": "stdout",
     "output_type": "stream",
     "text": [
      "10947390\n"
     ]
    }
   ],
   "source": [
    "# Download databases. Skip if already done\n",
    "\n",
    "# Nothing to change from here\n",
    "todo = '''\n",
    "conda activate Biobakery\n",
    "\n",
    "cd $DB\n",
    "mkdir $MPV $HMV\n",
    "\n",
    "echo \"Downloading MetaPhlan databases\"\n",
    "\n",
    "metaphlan --install --bowtie2db $MPV/\n",
    "\n",
    "echo \"Done\"\n",
    "echo \"Downloading Humann chocophlan databases\"\n",
    "\n",
    "humann_databases --download chocophlan full $HMV/chocophlan --update-config yes\n",
    "\n",
    "echo \"Done\"\n",
    "echo \"Downloading Humann uniref databases\"\n",
    "\n",
    "humann_databases --download uniref uniref90_diamond $HMV/uniref90 --update-config yes\n",
    "\n",
    "echo \"Done\"\n",
    "echo \"Downloading Humann mapping databases\"\n",
    "\n",
    "humann_databases --download utility_mapping full $HMV/mapping --update-config yes\n",
    "\n",
    "echo \"Done.\"\n",
    "'''\n",
    "\n",
    "binac(ppn=4, time='10:00:00', mem=64, name=f'Biobakery_DB', queue='short', todo=todo)"
   ]
  },
  {
   "cell_type": "code",
   "execution_count": 24,
   "id": "680c8050-29a3-4c29-9c06-4754bcfaf676",
   "metadata": {},
   "outputs": [],
   "source": [
    "# Clean jupyter lab backup folders that can mess with jobs\n",
    "clean = !rm -r ../Databases/*/.ipynb_checkpoints ../Databases/*/*/.ipynb_checkpoints"
   ]
  },
  {
   "cell_type": "code",
   "execution_count": null,
   "id": "78596af5-f71c-4dd2-9ec0-139e6a093a85",
   "metadata": {
    "tags": []
   },
   "outputs": [],
   "source": [
    "#keep output reports \n",
    "\n",
    "!mkdir $STATS/DB_Reports\n",
    "!mv Biobakery_db.sh.* $STATS/DB_Reports/"
   ]
  },
  {
   "cell_type": "markdown",
   "id": "695fc191-5b60-4491-a2d0-8afaf434e469",
   "metadata": {},
   "source": [
    "## Run MetaPhlan4 and Humann3.7"
   ]
  },
  {
   "cell_type": "code",
   "execution_count": 2,
   "id": "written-atlantic",
   "metadata": {
    "tags": []
   },
   "outputs": [
    {
     "name": "stdout",
     "output_type": "stream",
     "text": [
      "52 samples are ready with a 0 more well on the way\n",
      "Total amount of samples: 52\n"
     ]
    }
   ],
   "source": [
    "# Run Biobakery\n",
    "\n",
    "### Important! ###\n",
    "# Sometimes jobs are finished abnormally due to unknown reasons (I suspect \n",
    "# it is related somehow to the stars). So just run this cell again when all\n",
    "# jobs are finished (!). It will check output directories, delete outputs \n",
    "# for failed samples and submit them again. If nothing happened (no jobs \n",
    "# submitted, no text printed) then you are good and all samples worked as \n",
    "# supposed. Stars are on your side today!\n",
    "\n",
    "# Attention! Before running it for all your samples, run it only for one sample.\n",
    "test = False # if True then test with 1 sample. If False will start all unprocessed samples.\n",
    "\n",
    "# Nothing to change from here\n",
    "todo = '''\n",
    "conda activate Biobakery\n",
    "\n",
    "##### Define variables #####\n",
    "name={name}\n",
    "mindex={mindex}\n",
    "ppn={ppn}\n",
    "\n",
    "echo \"Creating output directories...\"\n",
    "\n",
    "cd $WS\n",
    "mkdir -p $OUT/MetaPhlan $OUT/Humann/$name\n",
    "\n",
    "##### Concatenate reads for Biobakery #####\n",
    "echo \"Concatenating reads for Biobakery...\"\n",
    "\n",
    "fq=${{name}}.fastq.gz\n",
    "cat $CR/${{name}}_*_1.fastq.gz $CR/${{name}}_*_2.fastq.gz > $OUT/$fq\n",
    "\n",
    "echo \"Done.\"\n",
    "echo\n",
    "echo \"############################################################\"\n",
    "echo \"###                  Running Metaphlan4                  ###\"\n",
    "echo \"############################################################\"\n",
    "echo\n",
    "echo \"Check if taxonomical profile already exists...\"\n",
    "\n",
    "cd $OUT\n",
    "profile=MetaPhlan/${{name}}_profiled_metagenome.txt\n",
    "if [ -f \"$profile\" ]; then\n",
    "    echo \"$profile exists. Skipping MetaPhlan...\"\n",
    "else \n",
    "    echo \"$profile does not exist. Starting MetaPhlan...\"\n",
    "    metaphlan $fq --bowtie2out MetaPhlan/${{name}}_bowtie2.bz2 \\\n",
    "    --nproc $ppn --input_type fastq --index $mindex \\\n",
    "    --bowtie2db $DB/$MPV -t rel_ab_w_read_stats -o $profile\n",
    "fi\n",
    "\n",
    "echo \"Done.\"\n",
    "echo\n",
    "echo \"############################################################\"\n",
    "echo \"###                   Running Humann3                    ###\"\n",
    "echo \"############################################################\"\n",
    "echo\n",
    "\n",
    "humann --input $fq --output Humann/$name --remove-temp-output --threads $ppn \\\n",
    "--metaphlan-options \"--index $mindex --bowtie2db $DB/$MPV\" --resume\n",
    "\n",
    "echo \"Done.\"\n",
    "echo\n",
    "### Clean ###\n",
    "echo \"Cleaning...\"\n",
    "\n",
    "rm $fq\n",
    "\n",
    "echo \"Done.\"\n",
    "echo\n",
    "echo \"############################################################\"\n",
    "echo \"###                   All done! Enjoy!                   ###\"\n",
    "echo \"### Citations:                                           ###\"\n",
    "echo \"### 1. BioBakery3:                                       ###\"\n",
    "echo \"###    https://elifesciences.org/articles/65088          ###\"\n",
    "echo \"############################################################\"\n",
    "'''\n",
    "\n",
    "mindex = [i for i in os.listdir(f'{DB}/{MPV}') if i.endswith('.pkl')][0].strip('.pkl')\n",
    "reports = f'{STATS}/Biobakery_Reports'\n",
    "ready = []\n",
    "\n",
    "!mkdir -p $reports \n",
    "\n",
    "# Check outputs (if there are any)\n",
    "check = f'{OUT}/Humann/'\n",
    "if os.path.exists(check):\n",
    "    for out in os.listdir(f'{OUT}/Humann/'):\n",
    "        if out.startswith('.'):\n",
    "            continue\n",
    "        sub = f'{OUT}/Humann/{out}'\n",
    "        if ' '.join(os.listdir(sub)).count('.tsv') == 3:\n",
    "            ready.append(out)\n",
    "            for file in os.listdir(sub):\n",
    "                if '.tsv' not in file:\n",
    "                    !rm -rf $sub/$file\n",
    "\n",
    "failed = [r.split('_Biob')[0] for r in os.listdir('./') if r.endswith('_feedback')]\n",
    "failed = [r for r in failed if r not in ready]\n",
    "submitted = [r.split('_Biob')[0] for r in os.listdir('./') if r.endswith('.sh')]\n",
    "submitted = [r for r in submitted if r not in ready + failed]\n",
    "\n",
    "#launch unprocessed samples\n",
    "for read in samples:\n",
    "    ppn = 2\n",
    "    shs = f'{read}_Biobakery.sh*'\n",
    "    \n",
    "    #test with the first read only \n",
    "    if test and read != samples[0]: \n",
    "        continue\n",
    "    \n",
    "    #check if ready or running\n",
    "    if read in ready:\n",
    "        m = !mv $shs $reports/\n",
    "        continue\n",
    "    \n",
    "    #check if submitted\n",
    "    if read in submitted:\n",
    "        continue\n",
    "\n",
    "    #Check if humann run failed for some samples. Then clean and rerun.\n",
    "    if read in failed:\n",
    "        print(f'Sample {read} does not finished correctly. Attempting to rerun...')\n",
    "        r = !rm -rf $shs\n",
    "\n",
    "    print(read)\n",
    "    do = todo.format(name = read, ppn = ppn, mindex = mindex)\n",
    "    binac(ppn=ppn, time='07:00:00:00', mem=180, name=f'{read}_Biobakery', queue='smp', todo=do)\n",
    "    \n",
    "print(f'{len(ready)} samples are ready with a {len(submitted)} more well on the way')\n",
    "print(f'Total amount of samples: {len(samples)}')"
   ]
  },
  {
   "cell_type": "code",
   "execution_count": 3,
   "id": "04e9530e-4a46-40f8-ba14-d23845201d3e",
   "metadata": {
    "tags": []
   },
   "outputs": [
    {
     "name": "stdout",
     "output_type": "stream",
     "text": [
      "\n",
      "mgmt02: \n",
      "                                                                                  Req'd       Req'd       Elap\n",
      "Job ID                  Username    Queue    Jobname          SessID  NDS   TSK   Memory      Time    S   Time\n",
      "----------------------- ----------- -------- ---------------- ------ ----- ------ --------- --------- - ---------\n",
      "10948186                ho_graaf20  smp      SM_reannotate_MA  28222     1      8     164gb 696:00:00 R 150:13:32\n"
     ]
    }
   ],
   "source": [
    "!qstat -u ho_graaf20"
   ]
  },
  {
   "cell_type": "code",
   "execution_count": 138,
   "id": "fcd5bc02-5f94-4b96-898f-9075102f8226",
   "metadata": {},
   "outputs": [],
   "source": [
    "!qdel 10947877"
   ]
  },
  {
   "cell_type": "code",
   "execution_count": null,
   "id": "2022b870-ae7b-4e2d-9c21-cfb4731e7ed0",
   "metadata": {
    "collapsed": true,
    "jupyter": {
     "outputs_hidden": true
    },
    "tags": []
   },
   "outputs": [
    {
     "data": {
      "text/plain": [
       "['10800012',\n",
       " '10800013',\n",
       " '10800014',\n",
       " '10800015',\n",
       " '10800016',\n",
       " '10800017',\n",
       " '10800018',\n",
       " '10800019',\n",
       " '10800020',\n",
       " '10800021',\n",
       " '10800022',\n",
       " '10800023',\n",
       " '10800024',\n",
       " '10800025',\n",
       " '10800026',\n",
       " '10800027',\n",
       " '10800028',\n",
       " '10800029',\n",
       " '10800030',\n",
       " '10800031',\n",
       " '10800032',\n",
       " '10800033',\n",
       " '10800034',\n",
       " '10800035',\n",
       " '10800036',\n",
       " '10800037',\n",
       " '10800038',\n",
       " '10800039',\n",
       " '10800040',\n",
       " '10800041',\n",
       " '10800042',\n",
       " '10800043',\n",
       " '10800044',\n",
       " '10800045',\n",
       " '10800046',\n",
       " '10800047',\n",
       " '10800048',\n",
       " '10800049',\n",
       " '10800050',\n",
       " '10800051',\n",
       " '10800515',\n",
       " '10802428',\n",
       " '10802429',\n",
       " '10802430',\n",
       " '10802431',\n",
       " '10802432',\n",
       " '10802433',\n",
       " '10802434',\n",
       " '10802435',\n",
       " '10802436',\n",
       " '10802437',\n",
       " '10802438',\n",
       " '10802439',\n",
       " '10802440',\n",
       " '10802441',\n",
       " '10802442',\n",
       " '10802443',\n",
       " '10802444',\n",
       " '10802445',\n",
       " '10802446',\n",
       " '10802447',\n",
       " '10802448',\n",
       " '10802449',\n",
       " '10802450',\n",
       " '10802451',\n",
       " '10802452',\n",
       " '10802453',\n",
       " '10802454',\n",
       " '10802455',\n",
       " '10802456',\n",
       " '10802457',\n",
       " '10802458',\n",
       " '10802459',\n",
       " '10802460',\n",
       " '10802461',\n",
       " '10802462',\n",
       " '10802463',\n",
       " '10802464',\n",
       " '10802465',\n",
       " '10802466',\n",
       " '10802467',\n",
       " '10802468',\n",
       " '10802469',\n",
       " '10802470',\n",
       " '10802471',\n",
       " '10802944',\n",
       " '10802945',\n",
       " '10802946',\n",
       " '10802947',\n",
       " '10802948',\n",
       " '10802949',\n",
       " '10802950',\n",
       " '10802951',\n",
       " '10802952',\n",
       " '10802953',\n",
       " '10802954',\n",
       " '10802955',\n",
       " '10802956',\n",
       " '10802957']"
      ]
     },
     "execution_count": 55,
     "metadata": {},
     "output_type": "execute_result"
    }
   ],
   "source": [
    "jobs = !qstat -u $LOGIN\n",
    "jobs = jobs[5:]\n",
    "running = [l.split(' ')[0] for l in jobs if ' R ' in l]\n",
    "queued = [l.split(' ')[0] for l in jobs if ' Q ' in l]\n",
    "queued"
   ]
  },
  {
   "cell_type": "code",
   "execution_count": null,
   "id": "e198ccc5-8cd5-4b41-97aa-9da0ee6549ca",
   "metadata": {},
   "outputs": [],
   "source": [
    "for job in queued:\n",
    "    !qalter -l walltime=07:00:00:00 $job"
   ]
  },
  {
   "cell_type": "code",
   "execution_count": 24,
   "id": "1924ee2c-2714-40e0-8396-18a72e17ea3d",
   "metadata": {},
   "outputs": [],
   "source": [
    "with open('Running_jobs.txt', 'w') as f:\n",
    "    for job in running:\n",
    "        f.write(f\"{job}\\n\")"
   ]
  },
  {
   "cell_type": "code",
   "execution_count": 61,
   "id": "fe6da625-2dcc-4160-b781-84f9d5945ae1",
   "metadata": {
    "collapsed": true,
    "jupyter": {
     "outputs_hidden": true
    },
    "tags": []
   },
   "outputs": [
    {
     "name": "stdout",
     "output_type": "stream",
     "text": [
      "--2022-12-02 15:29:51--  https://github.com/timyerg/Metaphlan-absolute-abundance-merger/blob/main/merge_metaphlan4_tables_abs.py?raw=true\n",
      "Resolving github.com (github.com)... 140.82.121.3\n",
      "Connecting to github.com (github.com)|140.82.121.3|:443... connected.\n",
      "HTTP request sent, awaiting response... 302 Found\n",
      "Location: https://github.com/timyerg/Metaphlan-absolute-abundance-merger/raw/main/merge_metaphlan4_tables_abs.py [following]\n",
      "--2022-12-02 15:29:51--  https://github.com/timyerg/Metaphlan-absolute-abundance-merger/raw/main/merge_metaphlan4_tables_abs.py\n",
      "Reusing existing connection to github.com:443.\n",
      "HTTP request sent, awaiting response... 302 Found\n",
      "Location: https://raw.githubusercontent.com/timyerg/Metaphlan-absolute-abundance-merger/main/merge_metaphlan4_tables_abs.py [following]\n",
      "--2022-12-02 15:29:51--  https://raw.githubusercontent.com/timyerg/Metaphlan-absolute-abundance-merger/main/merge_metaphlan4_tables_abs.py\n",
      "Resolving raw.githubusercontent.com (raw.githubusercontent.com)... 185.199.108.133, 185.199.110.133, 185.199.111.133, ...\n",
      "Connecting to raw.githubusercontent.com (raw.githubusercontent.com)|185.199.108.133|:443... connected.\n",
      "HTTP request sent, awaiting response... 200 OK\n",
      "Length: 3329 (3,3K) [text/plain]\n",
      "Saving to: ‘merge_metaphlan_tables_abs.py’\n",
      "\n",
      "100%[======================================>] 3.329       --.-K/s   in 0s      \n",
      "\n",
      "2022-12-02 15:29:51 (19,4 MB/s) - ‘merge_metaphlan_tables_abs.py’ saved [3329/3329]\n",
      "\n"
     ]
    }
   ],
   "source": [
    "!wget -O merge_metaphlan_tables_abs.py \\\n",
    "https://github.com/timyerg/Metaphlan-absolute-abundance-merger/blob/main/merge_metaphlan4_tables_abs.py?raw=true"
   ]
  },
  {
   "cell_type": "markdown",
   "id": "9d6590c3-7f57-41eb-8166-ee730978e3c4",
   "metadata": {},
   "source": [
    "### Merge MetaPhlan tables"
   ]
  },
  {
   "cell_type": "code",
   "execution_count": 4,
   "id": "ab025411-51fd-436f-aae3-d87646c6db22",
   "metadata": {},
   "outputs": [
    {
     "name": "stdout",
     "output_type": "stream",
     "text": [
      "10949165\n"
     ]
    }
   ],
   "source": [
    "todo = '''\n",
    "conda activate Biobakery\n",
    "\n",
    "cd $WS/$OUT\n",
    "\n",
    "echo \"Creating output directory...\"\n",
    "\n",
    "out=Merged_tables\n",
    "\n",
    "mkdir -p $out\n",
    "\n",
    "##### Merge Metaphlan tables #####\n",
    "echo \"Merging Metaphlan relative abundances...\"\n",
    "\n",
    "merge_metaphlan_tables.py MetaPhlan/*_profiled_metagenome.txt > $out/Metaphlan_rel_abund_table.tsv\n",
    "\n",
    "echo \"Merging Metaphlan absolute abundances...\"\n",
    "\n",
    "wget -O merge_metaphlan_tables_abs.py \\\n",
    "https://github.com/timyerg/Metaphlan-absolute-abundance-merger\\\n",
    "/blob/main/merge_metaphlan4_tables_abs.py?raw=true\n",
    "\n",
    "chmod +x merge_metaphlan_tables_abs.py\n",
    "\n",
    "./merge_metaphlan_tables_abs.py MetaPhlan/*_profiled_metagenome.txt > $out/Metaphlan_abs_abund_table.tsv\n",
    "\n",
    "echo \"Done.\"\n",
    "\n",
    "rm merge_metaphlan_tables_abs.py\n",
    "'''\n",
    "\n",
    "binac(time='15:00', mem=6, name=f'Merge_metaphlan', queue='tiny', todo=todo.format())"
   ]
  },
  {
   "cell_type": "markdown",
   "id": "aca6a0a2-4d9f-4717-a9d3-35d6254fce21",
   "metadata": {},
   "source": [
    "### Merge Humann tables"
   ]
  },
  {
   "cell_type": "code",
   "execution_count": 4,
   "id": "4675eefa-15b5-4a6e-ab97-c894e814f5be",
   "metadata": {},
   "outputs": [
    {
     "name": "stdout",
     "output_type": "stream",
     "text": [
      "10950379\n"
     ]
    }
   ],
   "source": [
    "todo = '''\n",
    "conda activate Biobakery\n",
    "\n",
    "out=Merged_tables\n",
    "\n",
    "cd $WS/$OUT\n",
    "\n",
    "echo \"Creating output directory...\"\n",
    "\n",
    "mkdir -p $out\n",
    "\n",
    "##### Merge Humann tables #####\n",
    "\n",
    "mkdir temp\n",
    "cp Humann/*/*.tsv temp/\n",
    "\n",
    "echo \"Merging Humann genefamilies...\"\n",
    "humann_join_tables -i temp -o $out/genefamilies_table.tsv --file_name genefamilies\n",
    "\n",
    "echo \"Merging Humann pathcoverage...\"\n",
    "humann_join_tables -i temp -o $out/pathcoverage_table.tsv --file_name pathcoverage\n",
    "\n",
    "echo \"Merging Humann pathabundance...\"\n",
    "humann_join_tables -i temp -o $out/pathabundance_table.tsv --file_name pathabundance\n",
    "\n",
    "echo \"Done.\"\n",
    "rm -rf temp\n",
    "'''\n",
    "\n",
    "binac(time='04:00:00', mem=16, name=f'Merge_Humann', queue='short', todo=todo.format())"
   ]
  },
  {
   "cell_type": "code",
   "execution_count": 6,
   "id": "e887694e-f077-4064-8fa4-f04277f12926",
   "metadata": {},
   "outputs": [],
   "source": [
    "!mv Merge_Humann.sh* $STATS/Biobakery_Reports/"
   ]
  },
  {
   "cell_type": "markdown",
   "id": "bbcaed05-ae38-497c-9334-e8358c414937",
   "metadata": {
    "jp-MarkdownHeadingCollapsed": true,
    "tags": []
   },
   "source": [
    "### Regroup"
   ]
  },
  {
   "cell_type": "code",
   "execution_count": 7,
   "id": "c9c0ea17-cfdf-43e5-a6e5-e7203bb25527",
   "metadata": {},
   "outputs": [
    {
     "name": "stdout",
     "output_type": "stream",
     "text": [
      "10950380\n"
     ]
    }
   ],
   "source": [
    "todo = '''\n",
    "conda activate Biobakery\n",
    "\n",
    "out=Merged_tables\n",
    "\n",
    "cd $WS/$OUT\n",
    "\n",
    "##### Regroup tables #####\n",
    "groups=(\"rxn\" \"pfam\" \"ko\" \"go\")\n",
    "\n",
    "for group in ${{groups[@]}}; do\n",
    "    echo \"Regrouping genefamilies_table.tsv to $group...\"\n",
    "    humann_regroup_table -i $out/genefamilies_table.tsv -g uniref90_${{group}} \\\n",
    "    -o $out/${{group}}_genefamilies_table.tsv\n",
    "done\n",
    "\n",
    "echo \"Done.\"\n",
    "'''\n",
    "\n",
    "binac(time='04:00:00', mem=96, name=f'Regroup_tables', queue='short', todo=todo.format())"
   ]
  },
  {
   "cell_type": "code",
   "execution_count": 2,
   "id": "bc32c0ef-2e1b-4c56-bb57-1a3abee39fe0",
   "metadata": {},
   "outputs": [],
   "source": [
    "!mv Regroup_tables.sh* $STATS/Biobakery_Reports/"
   ]
  },
  {
   "cell_type": "markdown",
   "id": "32b82b0e-bbf1-4e5a-be2f-053291954637",
   "metadata": {},
   "source": [
    "### Normalize humann outputs"
   ]
  },
  {
   "cell_type": "code",
   "execution_count": 9,
   "id": "87cacf6e-e4f4-4a4b-bc5e-e87e68fbd440",
   "metadata": {},
   "outputs": [
    {
     "name": "stdout",
     "output_type": "stream",
     "text": [
      "10950381\n"
     ]
    }
   ],
   "source": [
    "todo = '''\n",
    "conda activate Biobakery\n",
    "\n",
    "out=Merged_tables\n",
    "\n",
    "cd $WS/$OUT/$out\n",
    "\n",
    "### Normalize Humann tables ###\n",
    "norm=(\"relab\" \"cpm\")\n",
    "for path in ./*_table.tsv; do\n",
    "    tab=\"${{path##*/}}\"\n",
    "    if [[ \"$tab\" == *'genefamilies'* || \"$tab\" == *'pathabundance'* ]]; then\n",
    "        for n in ${{norm[@]}}; do\n",
    "            echo \"Normalize $tab to $n...\"\n",
    "            humann_renorm_table -i $tab -o ${{n}}_${{tab}} -u $n -p\n",
    "        done\n",
    "    fi\n",
    "done\n",
    "    \n",
    "echo \"Done.\"\n",
    "'''\n",
    "\n",
    "binac(time='04:00:00', mem=124, name=f'Normalize_tables', queue='short', todo=todo.format())"
   ]
  },
  {
   "cell_type": "code",
   "execution_count": 12,
   "id": "c766c5e4-1573-438d-aea0-ebdf8d3d5245",
   "metadata": {},
   "outputs": [],
   "source": [
    "!mv Normalize_tables.sh* $STATS/Biobakery_Reports/"
   ]
  },
  {
   "cell_type": "markdown",
   "id": "090fbf32-1e1e-4552-9633-ca28a459dd61",
   "metadata": {},
   "source": [
    "### Add names to humann outputs"
   ]
  },
  {
   "cell_type": "code",
   "execution_count": 17,
   "id": "1a2c5c1e-8544-4c38-a3c3-85ca1a22ac1c",
   "metadata": {
    "tags": []
   },
   "outputs": [
    {
     "name": "stdout",
     "output_type": "stream",
     "text": [
      "10812745\n"
     ]
    }
   ],
   "source": [
    "todo = '''\n",
    "conda activate Biobakery\n",
    "\n",
    "out=Merged_tables\n",
    "\n",
    "cd $WS/$OUT/$out\n",
    "\n",
    "### Add names to Humann tables ###\n",
    "\n",
    "echo \"########## Adding names to KO tables ##########\"\n",
    "names=(\"kegg-orthology\")\n",
    "for path in ./*_ko_genefamilies_table.tsv; do\n",
    "    tab=\"${{path##*/}}\"\n",
    "    for name in ${{names[@]}}; do\n",
    "        echo \"Adding $name names to $tab...\"\n",
    "        humann_rename_table -i $tab -n $name -o ${{name}}_${{tab}}\n",
    "    done\n",
    "done\n",
    "\n",
    "#echo \"########## Adding names to GO tables ##########\"\n",
    "#names=(\"go\")\n",
    "#for path in ./*_go_genefamilies_table.tsv; do\n",
    "#    tab=\"${{path##*/}}\"\n",
    "#    for name in ${{names[@]}}; do\n",
    "#        echo \"Adding $name names to $tab...\"\n",
    "#        humann_rename_table -i $tab -n $name -o ${{name}}_${{tab}}\n",
    "#    done\n",
    "#done\n",
    "\n",
    "#echo \"########## Adding names to MetaCyc tables ##########\"\n",
    "#names=(\"metacyc-rxn\")\n",
    "#for path in ./*_rxn_genefamilies_table.tsv; do\n",
    "#    tab=\"${{path##*/}}\"\n",
    "#    for name in ${{names[@]}}; do\n",
    "#        echo \"Adding $name names to $tab...\"\n",
    "#        humann_rename_table -i $tab -n $name -o ${{name}}_${{tab}}\n",
    "#    done\n",
    "#done\n",
    "\n",
    "#echo \"########## Adding names to PFAM tables ##########\"\n",
    "#names=(\"pfam\")\n",
    "#for path in ./*_pfam_genefamilies_table.tsv; do\n",
    "#    tab=\"${{path##*/}}\"\n",
    "#    for name in ${{names[@]}}; do\n",
    "#        echo \"Adding $name names to $tab...\"\n",
    "#        humann_rename_table -i $tab -n $name -o ${{name}}_${{tab}}\n",
    "#    done\n",
    "#done\n",
    "\n",
    "echo \"Done.\"\n",
    "'''\n",
    "\n",
    "binac(mem=8, name=f'Rename_tables', todo=todo.format())"
   ]
  },
  {
   "cell_type": "code",
   "execution_count": 20,
   "id": "225f2d52-2632-4cfb-8305-b47949408026",
   "metadata": {},
   "outputs": [
    {
     "name": "stdout",
     "output_type": "stream",
     "text": [
      "10950384\n"
     ]
    }
   ],
   "source": [
    "todo = '''\n",
    "conda activate Biobakery\n",
    "\n",
    "out=Merged_tables\n",
    "\n",
    "cd $WS/$OUT/$out\n",
    "\n",
    "### Add names to Humann tables ###\n",
    "\n",
    "names=(\"uniref90\")\n",
    "for path in ./*genefamilies_table.tsv; do\n",
    "   tab=\"${{path##*/}}\"\n",
    "    for name in ${{names[@]}}; do\n",
    "        echo \"Adding $name names to $tab...\"\n",
    "        humann_rename_table -i $tab -n $name -o ${{name}}_${{tab}}\n",
    "    done\n",
    "done\n",
    "\n",
    "echo \"Done.\"\n",
    "'''\n",
    "\n",
    "binac(mem=32, time='04:00:00', queue='short', name=f'Rename_tables', todo=todo.format())"
   ]
  },
  {
   "cell_type": "code",
   "execution_count": 26,
   "id": "7d202f0b-1514-4bf2-a290-2cfe582dc46f",
   "metadata": {},
   "outputs": [],
   "source": [
    "!mv Rename_tables.sh* $STATS/Biobakery_Reports/"
   ]
  },
  {
   "cell_type": "code",
   "execution_count": 27,
   "id": "313c1801-7d63-44d9-b221-f1119fd44265",
   "metadata": {},
   "outputs": [
    {
     "name": "stdout",
     "output_type": "stream",
     "text": [
      "10950385\n"
     ]
    }
   ],
   "source": [
    "# Zip biobakery folder to download it later\n",
    "todo = '''\n",
    "cd $WS\n",
    "zip -r ${OUT}4.zip $OUT MetaPhlan4.ipynb\n",
    "'''\n",
    "\n",
    "binac(time='06:00:00', mem=8, name=f'Biobakrery4_zip', queue='short', todo=todo)"
   ]
  },
  {
   "cell_type": "code",
   "execution_count": 21,
   "id": "94b585c2-aa34-49cc-8816-a26f9b7dec8f",
   "metadata": {},
   "outputs": [
    {
     "name": "stdout",
     "output_type": "stream",
     "text": [
      "10849992\n"
     ]
    }
   ],
   "source": [
    "todo = '''\n",
    "conda activate qiime2-2022.8\n",
    "\n",
    "cd $WS\n",
    "\n",
    "#Create matrix\n",
    "qiime deicode rpca \\\n",
    "    --i-table core-metrics/uniref90_genefamilies_destratified.qza \\\n",
    "    --o-distance-matrix core-metrics/aitchison_distance_matrix.qza \\\n",
    "    --o-biplot core-metrics/aitchison_biplot.qza\n",
    "\n",
    "#Create PCoA\n",
    "qiime diversity pcoa \\\n",
    "    --i-distance-matrix core-metrics/aitchison_distance_matrix.qza \\\n",
    "    --o-pcoa core-metrics/aitchison_pcoa_results.qza\n",
    "\n",
    "#Create PCoA plot\n",
    "qiime emperor plot \\\n",
    "    --i-pcoa core-metrics/aitchison_pcoa_results.qza \\\n",
    "    --m-metadata-file core-metrics/metadata.tsv \\\n",
    "    --o-visualization core-metrics/aitchison_emperor.qzv\n",
    "'''\n",
    "\n",
    "binac(mem=250, time='04:00:00', queue='smp', name=f'Deicode', todo=todo)"
   ]
  },
  {
   "cell_type": "code",
   "execution_count": 8,
   "id": "2f99fe3a-ea9d-43a0-be2f-e6f500220744",
   "metadata": {},
   "outputs": [],
   "source": [
    "!qdel 10950380"
   ]
  },
  {
   "cell_type": "code",
   "execution_count": 28,
   "id": "089e93b4-a4f9-4ef4-b7d4-9e23f80bea61",
   "metadata": {},
   "outputs": [
    {
     "name": "stdout",
     "output_type": "stream",
     "text": [
      "\n",
      "mgmt02: \n",
      "                                                                                  Req'd       Req'd       Elap\n",
      "Job ID                  Username    Queue    Jobname          SessID  NDS   TSK   Memory      Time    S   Time\n",
      "----------------------- ----------- -------- ---------------- ------ ----- ------ --------- --------- - ---------\n",
      "10948186                ho_graaf20  smp      SM_reannotate_MA  28222     1      8     164gb 696:00:00 R 151:00:01\n",
      "10950384                ho_graaf20  short    Rename_tables.sh    398     1      1      32gb  04:00:00 C       -- \n",
      "10950385                ho_graaf20  short    Biobakrery4_zip.   1287     1      1       8gb  06:00:00 R  00:00:10\n"
     ]
    }
   ],
   "source": [
    "!qstat -u ho_graaf20"
   ]
  },
  {
   "cell_type": "code",
   "execution_count": 11,
   "id": "3366cf64-cb32-434a-abed-f26545bc9f8f",
   "metadata": {},
   "outputs": [
    {
     "name": "stdout",
     "output_type": "stream",
     "text": [
      "\n",
      "server: mgmt.binac\n",
      "\n",
      "Queue            Memory CPU Time Walltime Node  Run Que Lm  State\n",
      "---------------- ------ -------- -------- ----  --- --- --  -----\n",
      "smp                --      --       --      --   11  10 --   E R\n",
      "                                               ----- -----\n",
      "                                                  11    10\n"
     ]
    }
   ],
   "source": [
    "!qstat -q smp"
   ]
  },
  {
   "cell_type": "code",
   "execution_count": 141,
   "id": "97de10de-81e3-4f1d-abca-b3f99a8e0b45",
   "metadata": {},
   "outputs": [
    {
     "name": "stdout",
     "output_type": "stream",
     "text": [
      "^C\n"
     ]
    }
   ],
   "source": [
    "!gunzip Pooled/98_FR_d13_Trt3_HP2_1.fastq.gz"
   ]
  },
  {
   "cell_type": "code",
   "execution_count": 84,
   "id": "7fe4d8ee-8483-4785-8d0e-3f1a55b4b4d0",
   "metadata": {},
   "outputs": [
    {
     "name": "stdout",
     "output_type": "stream",
     "text": [
      "\n",
      "gzip: Pooled/98_FR_d13_Trt3_HP2_1.fastq.gz: unexpected end of file\n"
     ]
    }
   ],
   "source": [
    "!zcat Pooled/98_FR_d13_Trt3_HP2_1.fastq.gz > Pooled/98_FR_d13_Trt3_HP2_1.fastq"
   ]
  },
  {
   "cell_type": "code",
   "execution_count": 140,
   "id": "47f33bee-8b85-4108-a465-f14ac92a243b",
   "metadata": {},
   "outputs": [],
   "source": [
    "!gzip -t Pooled/98_FR_d13_Trt3_HP2_1.fastq.gz"
   ]
  },
  {
   "cell_type": "code",
   "execution_count": 110,
   "id": "d21cba2c-dc19-40d7-918e-01bdaf31e85d",
   "metadata": {},
   "outputs": [
    {
     "name": "stdout",
     "output_type": "stream",
     "text": [
      "ssh: connect to host 144.41.181.122 port 22: Connection timed out\n"
     ]
    }
   ],
   "source": [
    "!scp meco-ThinkPad-P52@144.41.181.122:/media/meco/Windows/Ubuntu/Pooled/*.gz /beegfs/work/graaf20/Rstc2020/Pooled/"
   ]
  },
  {
   "cell_type": "code",
   "execution_count": 15,
   "id": "7d73768b-e990-41d5-b4a5-eb7c85a1f7af",
   "metadata": {},
   "outputs": [
    {
     "data": {
      "text/html": [
       "<div>\n",
       "<style scoped>\n",
       "    .dataframe tbody tr th:only-of-type {\n",
       "        vertical-align: middle;\n",
       "    }\n",
       "\n",
       "    .dataframe tbody tr th {\n",
       "        vertical-align: top;\n",
       "    }\n",
       "\n",
       "    .dataframe thead th {\n",
       "        text-align: right;\n",
       "    }\n",
       "</style>\n",
       "<table border=\"1\" class=\"dataframe\">\n",
       "  <thead>\n",
       "    <tr style=\"text-align: right;\">\n",
       "      <th></th>\n",
       "      <th># Gene Family</th>\n",
       "      <th>100_Abundance-RPKs</th>\n",
       "      <th>102_Abundance-RPKs</th>\n",
       "      <th>104_Abundance-RPKs</th>\n",
       "      <th>106_Abundance-RPKs</th>\n",
       "      <th>108_Abundance-RPKs</th>\n",
       "      <th>110_Abundance-RPKs</th>\n",
       "      <th>11_Abundance-RPKs</th>\n",
       "      <th>123_Abundance-RPKs</th>\n",
       "      <th>124_Abundance-RPKs</th>\n",
       "      <th>...</th>\n",
       "      <th>55_Abundance-RPKs</th>\n",
       "      <th>80_Abundance-RPKs</th>\n",
       "      <th>83_Abundance-RPKs</th>\n",
       "      <th>88_Abundance-RPKs</th>\n",
       "      <th>90_Abundance-RPKs</th>\n",
       "      <th>92_Abundance-RPKs</th>\n",
       "      <th>94_Abundance-RPKs</th>\n",
       "      <th>96_Abundance-RPKs</th>\n",
       "      <th>98_Abundance-RPKs</th>\n",
       "      <th>9_Abundance-RPKs</th>\n",
       "    </tr>\n",
       "  </thead>\n",
       "  <tbody>\n",
       "    <tr>\n",
       "      <th>0</th>\n",
       "      <td>UNMAPPED</td>\n",
       "      <td>33272500.0</td>\n",
       "      <td>4.110360e+07</td>\n",
       "      <td>43380396.0</td>\n",
       "      <td>38903932.0</td>\n",
       "      <td>41236807.0</td>\n",
       "      <td>43420225.0</td>\n",
       "      <td>52364200.0</td>\n",
       "      <td>55097999.0</td>\n",
       "      <td>55092735.0</td>\n",
       "      <td>...</td>\n",
       "      <td>57302901.0</td>\n",
       "      <td>63060947.0</td>\n",
       "      <td>64843650.0</td>\n",
       "      <td>34503840.0</td>\n",
       "      <td>39705714.0</td>\n",
       "      <td>43017431.0</td>\n",
       "      <td>40321465.0</td>\n",
       "      <td>43196245.0</td>\n",
       "      <td>43637811.0</td>\n",
       "      <td>39508842.0</td>\n",
       "    </tr>\n",
       "    <tr>\n",
       "      <th>1</th>\n",
       "      <td>UniRef90_A0A009DWL0</td>\n",
       "      <td>0.0</td>\n",
       "      <td>0.000000e+00</td>\n",
       "      <td>0.0</td>\n",
       "      <td>0.0</td>\n",
       "      <td>0.0</td>\n",
       "      <td>0.0</td>\n",
       "      <td>0.0</td>\n",
       "      <td>0.0</td>\n",
       "      <td>0.0</td>\n",
       "      <td>...</td>\n",
       "      <td>0.0</td>\n",
       "      <td>0.0</td>\n",
       "      <td>0.0</td>\n",
       "      <td>0.0</td>\n",
       "      <td>0.0</td>\n",
       "      <td>0.0</td>\n",
       "      <td>0.0</td>\n",
       "      <td>0.0</td>\n",
       "      <td>0.0</td>\n",
       "      <td>0.0</td>\n",
       "    </tr>\n",
       "    <tr>\n",
       "      <th>2</th>\n",
       "      <td>UniRef90_A0A009DWL0|unclassified</td>\n",
       "      <td>0.0</td>\n",
       "      <td>0.000000e+00</td>\n",
       "      <td>0.0</td>\n",
       "      <td>0.0</td>\n",
       "      <td>0.0</td>\n",
       "      <td>0.0</td>\n",
       "      <td>0.0</td>\n",
       "      <td>0.0</td>\n",
       "      <td>0.0</td>\n",
       "      <td>...</td>\n",
       "      <td>0.0</td>\n",
       "      <td>0.0</td>\n",
       "      <td>0.0</td>\n",
       "      <td>0.0</td>\n",
       "      <td>0.0</td>\n",
       "      <td>0.0</td>\n",
       "      <td>0.0</td>\n",
       "      <td>0.0</td>\n",
       "      <td>0.0</td>\n",
       "      <td>0.0</td>\n",
       "    </tr>\n",
       "    <tr>\n",
       "      <th>3</th>\n",
       "      <td>UniRef90_A0A009E034</td>\n",
       "      <td>0.0</td>\n",
       "      <td>0.000000e+00</td>\n",
       "      <td>0.0</td>\n",
       "      <td>0.0</td>\n",
       "      <td>0.0</td>\n",
       "      <td>0.0</td>\n",
       "      <td>0.0</td>\n",
       "      <td>0.0</td>\n",
       "      <td>0.0</td>\n",
       "      <td>...</td>\n",
       "      <td>0.0</td>\n",
       "      <td>0.0</td>\n",
       "      <td>0.0</td>\n",
       "      <td>0.0</td>\n",
       "      <td>0.0</td>\n",
       "      <td>0.0</td>\n",
       "      <td>0.0</td>\n",
       "      <td>0.0</td>\n",
       "      <td>0.0</td>\n",
       "      <td>0.0</td>\n",
       "    </tr>\n",
       "    <tr>\n",
       "      <th>4</th>\n",
       "      <td>UniRef90_A0A009E034|unclassified</td>\n",
       "      <td>0.0</td>\n",
       "      <td>0.000000e+00</td>\n",
       "      <td>0.0</td>\n",
       "      <td>0.0</td>\n",
       "      <td>0.0</td>\n",
       "      <td>0.0</td>\n",
       "      <td>0.0</td>\n",
       "      <td>0.0</td>\n",
       "      <td>0.0</td>\n",
       "      <td>...</td>\n",
       "      <td>0.0</td>\n",
       "      <td>0.0</td>\n",
       "      <td>0.0</td>\n",
       "      <td>0.0</td>\n",
       "      <td>0.0</td>\n",
       "      <td>0.0</td>\n",
       "      <td>0.0</td>\n",
       "      <td>0.0</td>\n",
       "      <td>0.0</td>\n",
       "      <td>0.0</td>\n",
       "    </tr>\n",
       "    <tr>\n",
       "      <th>...</th>\n",
       "      <td>...</td>\n",
       "      <td>...</td>\n",
       "      <td>...</td>\n",
       "      <td>...</td>\n",
       "      <td>...</td>\n",
       "      <td>...</td>\n",
       "      <td>...</td>\n",
       "      <td>...</td>\n",
       "      <td>...</td>\n",
       "      <td>...</td>\n",
       "      <td>...</td>\n",
       "      <td>...</td>\n",
       "      <td>...</td>\n",
       "      <td>...</td>\n",
       "      <td>...</td>\n",
       "      <td>...</td>\n",
       "      <td>...</td>\n",
       "      <td>...</td>\n",
       "      <td>...</td>\n",
       "      <td>...</td>\n",
       "      <td>...</td>\n",
       "    </tr>\n",
       "    <tr>\n",
       "      <th>2425452</th>\n",
       "      <td>UniRef90_Z9JZS4|unclassified</td>\n",
       "      <td>0.0</td>\n",
       "      <td>5.174653e+00</td>\n",
       "      <td>0.0</td>\n",
       "      <td>0.0</td>\n",
       "      <td>0.0</td>\n",
       "      <td>0.0</td>\n",
       "      <td>0.0</td>\n",
       "      <td>0.0</td>\n",
       "      <td>0.0</td>\n",
       "      <td>...</td>\n",
       "      <td>0.0</td>\n",
       "      <td>0.0</td>\n",
       "      <td>0.0</td>\n",
       "      <td>0.0</td>\n",
       "      <td>0.0</td>\n",
       "      <td>0.0</td>\n",
       "      <td>0.0</td>\n",
       "      <td>0.0</td>\n",
       "      <td>0.0</td>\n",
       "      <td>0.0</td>\n",
       "    </tr>\n",
       "    <tr>\n",
       "      <th>2425453</th>\n",
       "      <td>UniRef90_Z9K090</td>\n",
       "      <td>0.0</td>\n",
       "      <td>0.000000e+00</td>\n",
       "      <td>0.0</td>\n",
       "      <td>0.0</td>\n",
       "      <td>0.0</td>\n",
       "      <td>0.0</td>\n",
       "      <td>0.0</td>\n",
       "      <td>0.0</td>\n",
       "      <td>0.0</td>\n",
       "      <td>...</td>\n",
       "      <td>0.0</td>\n",
       "      <td>0.0</td>\n",
       "      <td>0.0</td>\n",
       "      <td>0.0</td>\n",
       "      <td>0.0</td>\n",
       "      <td>0.0</td>\n",
       "      <td>0.0</td>\n",
       "      <td>0.0</td>\n",
       "      <td>0.0</td>\n",
       "      <td>0.0</td>\n",
       "    </tr>\n",
       "    <tr>\n",
       "      <th>2425454</th>\n",
       "      <td>UniRef90_Z9K090|unclassified</td>\n",
       "      <td>0.0</td>\n",
       "      <td>0.000000e+00</td>\n",
       "      <td>0.0</td>\n",
       "      <td>0.0</td>\n",
       "      <td>0.0</td>\n",
       "      <td>0.0</td>\n",
       "      <td>0.0</td>\n",
       "      <td>0.0</td>\n",
       "      <td>0.0</td>\n",
       "      <td>...</td>\n",
       "      <td>0.0</td>\n",
       "      <td>0.0</td>\n",
       "      <td>0.0</td>\n",
       "      <td>0.0</td>\n",
       "      <td>0.0</td>\n",
       "      <td>0.0</td>\n",
       "      <td>0.0</td>\n",
       "      <td>0.0</td>\n",
       "      <td>0.0</td>\n",
       "      <td>0.0</td>\n",
       "    </tr>\n",
       "    <tr>\n",
       "      <th>2425455</th>\n",
       "      <td>UniRef90_Z9K6I6</td>\n",
       "      <td>0.0</td>\n",
       "      <td>2.938711e+00</td>\n",
       "      <td>0.0</td>\n",
       "      <td>0.0</td>\n",
       "      <td>0.0</td>\n",
       "      <td>0.0</td>\n",
       "      <td>0.0</td>\n",
       "      <td>0.0</td>\n",
       "      <td>0.0</td>\n",
       "      <td>...</td>\n",
       "      <td>0.0</td>\n",
       "      <td>0.0</td>\n",
       "      <td>0.0</td>\n",
       "      <td>0.0</td>\n",
       "      <td>0.0</td>\n",
       "      <td>0.0</td>\n",
       "      <td>0.0</td>\n",
       "      <td>0.0</td>\n",
       "      <td>0.0</td>\n",
       "      <td>0.0</td>\n",
       "    </tr>\n",
       "    <tr>\n",
       "      <th>2425456</th>\n",
       "      <td>UniRef90_Z9K6I6|unclassified</td>\n",
       "      <td>0.0</td>\n",
       "      <td>2.938711e+00</td>\n",
       "      <td>0.0</td>\n",
       "      <td>0.0</td>\n",
       "      <td>0.0</td>\n",
       "      <td>0.0</td>\n",
       "      <td>0.0</td>\n",
       "      <td>0.0</td>\n",
       "      <td>0.0</td>\n",
       "      <td>...</td>\n",
       "      <td>0.0</td>\n",
       "      <td>0.0</td>\n",
       "      <td>0.0</td>\n",
       "      <td>0.0</td>\n",
       "      <td>0.0</td>\n",
       "      <td>0.0</td>\n",
       "      <td>0.0</td>\n",
       "      <td>0.0</td>\n",
       "      <td>0.0</td>\n",
       "      <td>0.0</td>\n",
       "    </tr>\n",
       "  </tbody>\n",
       "</table>\n",
       "<p>2425457 rows × 53 columns</p>\n",
       "</div>"
      ],
      "text/plain": [
       "                            # Gene Family  100_Abundance-RPKs   \n",
       "0                                UNMAPPED          33272500.0  \\\n",
       "1                     UniRef90_A0A009DWL0                 0.0   \n",
       "2        UniRef90_A0A009DWL0|unclassified                 0.0   \n",
       "3                     UniRef90_A0A009E034                 0.0   \n",
       "4        UniRef90_A0A009E034|unclassified                 0.0   \n",
       "...                                   ...                 ...   \n",
       "2425452      UniRef90_Z9JZS4|unclassified                 0.0   \n",
       "2425453                   UniRef90_Z9K090                 0.0   \n",
       "2425454      UniRef90_Z9K090|unclassified                 0.0   \n",
       "2425455                   UniRef90_Z9K6I6                 0.0   \n",
       "2425456      UniRef90_Z9K6I6|unclassified                 0.0   \n",
       "\n",
       "         102_Abundance-RPKs  104_Abundance-RPKs  106_Abundance-RPKs   \n",
       "0              4.110360e+07          43380396.0          38903932.0  \\\n",
       "1              0.000000e+00                 0.0                 0.0   \n",
       "2              0.000000e+00                 0.0                 0.0   \n",
       "3              0.000000e+00                 0.0                 0.0   \n",
       "4              0.000000e+00                 0.0                 0.0   \n",
       "...                     ...                 ...                 ...   \n",
       "2425452        5.174653e+00                 0.0                 0.0   \n",
       "2425453        0.000000e+00                 0.0                 0.0   \n",
       "2425454        0.000000e+00                 0.0                 0.0   \n",
       "2425455        2.938711e+00                 0.0                 0.0   \n",
       "2425456        2.938711e+00                 0.0                 0.0   \n",
       "\n",
       "         108_Abundance-RPKs  110_Abundance-RPKs  11_Abundance-RPKs   \n",
       "0                41236807.0          43420225.0         52364200.0  \\\n",
       "1                       0.0                 0.0                0.0   \n",
       "2                       0.0                 0.0                0.0   \n",
       "3                       0.0                 0.0                0.0   \n",
       "4                       0.0                 0.0                0.0   \n",
       "...                     ...                 ...                ...   \n",
       "2425452                 0.0                 0.0                0.0   \n",
       "2425453                 0.0                 0.0                0.0   \n",
       "2425454                 0.0                 0.0                0.0   \n",
       "2425455                 0.0                 0.0                0.0   \n",
       "2425456                 0.0                 0.0                0.0   \n",
       "\n",
       "         123_Abundance-RPKs  124_Abundance-RPKs  ...  55_Abundance-RPKs   \n",
       "0                55097999.0          55092735.0  ...         57302901.0  \\\n",
       "1                       0.0                 0.0  ...                0.0   \n",
       "2                       0.0                 0.0  ...                0.0   \n",
       "3                       0.0                 0.0  ...                0.0   \n",
       "4                       0.0                 0.0  ...                0.0   \n",
       "...                     ...                 ...  ...                ...   \n",
       "2425452                 0.0                 0.0  ...                0.0   \n",
       "2425453                 0.0                 0.0  ...                0.0   \n",
       "2425454                 0.0                 0.0  ...                0.0   \n",
       "2425455                 0.0                 0.0  ...                0.0   \n",
       "2425456                 0.0                 0.0  ...                0.0   \n",
       "\n",
       "         80_Abundance-RPKs  83_Abundance-RPKs  88_Abundance-RPKs   \n",
       "0               63060947.0         64843650.0         34503840.0  \\\n",
       "1                      0.0                0.0                0.0   \n",
       "2                      0.0                0.0                0.0   \n",
       "3                      0.0                0.0                0.0   \n",
       "4                      0.0                0.0                0.0   \n",
       "...                    ...                ...                ...   \n",
       "2425452                0.0                0.0                0.0   \n",
       "2425453                0.0                0.0                0.0   \n",
       "2425454                0.0                0.0                0.0   \n",
       "2425455                0.0                0.0                0.0   \n",
       "2425456                0.0                0.0                0.0   \n",
       "\n",
       "         90_Abundance-RPKs  92_Abundance-RPKs  94_Abundance-RPKs   \n",
       "0               39705714.0         43017431.0         40321465.0  \\\n",
       "1                      0.0                0.0                0.0   \n",
       "2                      0.0                0.0                0.0   \n",
       "3                      0.0                0.0                0.0   \n",
       "4                      0.0                0.0                0.0   \n",
       "...                    ...                ...                ...   \n",
       "2425452                0.0                0.0                0.0   \n",
       "2425453                0.0                0.0                0.0   \n",
       "2425454                0.0                0.0                0.0   \n",
       "2425455                0.0                0.0                0.0   \n",
       "2425456                0.0                0.0                0.0   \n",
       "\n",
       "         96_Abundance-RPKs  98_Abundance-RPKs  9_Abundance-RPKs  \n",
       "0               43196245.0         43637811.0        39508842.0  \n",
       "1                      0.0                0.0               0.0  \n",
       "2                      0.0                0.0               0.0  \n",
       "3                      0.0                0.0               0.0  \n",
       "4                      0.0                0.0               0.0  \n",
       "...                    ...                ...               ...  \n",
       "2425452                0.0                0.0               0.0  \n",
       "2425453                0.0                0.0               0.0  \n",
       "2425454                0.0                0.0               0.0  \n",
       "2425455                0.0                0.0               0.0  \n",
       "2425456                0.0                0.0               0.0  \n",
       "\n",
       "[2425457 rows x 53 columns]"
      ]
     },
     "execution_count": 15,
     "metadata": {},
     "output_type": "execute_result"
    }
   ],
   "source": [
    "import pandas as pd\n",
    "df = pd.read_csv('Biobakery/Merged_tables/genefamilies_table.tsv', sep='\\t', engine='python')\n",
    "\n",
    "df"
   ]
  },
  {
   "cell_type": "code",
   "execution_count": null,
   "id": "9c7f5613-292b-41a6-bf6c-21e7c3bc75d7",
   "metadata": {},
   "outputs": [],
   "source": []
  }
 ],
 "metadata": {
  "kernelspec": {
   "display_name": "Python 3 (ipykernel)",
   "language": "python",
   "name": "python3"
  },
  "language_info": {
   "codemirror_mode": {
    "name": "ipython",
    "version": 3
   },
   "file_extension": ".py",
   "mimetype": "text/x-python",
   "name": "python",
   "nbconvert_exporter": "python",
   "pygments_lexer": "ipython3",
   "version": "3.11.3"
  }
 },
 "nbformat": 4,
 "nbformat_minor": 5
}
