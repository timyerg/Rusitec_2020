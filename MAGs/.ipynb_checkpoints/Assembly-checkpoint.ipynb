{
 "cells": [
  {
   "cell_type": "markdown",
   "metadata": {},
   "source": [
    "# Bash function"
   ]
  },
  {
   "cell_type": "code",
   "execution_count": 3,
   "metadata": {
    "tags": []
   },
   "outputs": [
    {
     "name": "stdout",
     "output_type": "stream",
     "text": [
      "['1', '4', '9', '11', '13', '15', '17', '19', '21', '23', '25', '27', '29', '31', '44', '45', '46', '47', '48', '49', '50', '51', '52', '53', '54', '55', '80', '83', '88', '90', '92', '94', '96', '98', '100', '102', '104', '106', '108', '110', '123', '124', '125', '126', '127', '128', '129', '130', '131', '132', '133', '134']\n"
     ]
    }
   ],
   "source": [
    "def bash(string,name,queue):\n",
    "  script = \"%s.sh\"%name\n",
    "  with open(script, \"w\") as text_file:\n",
    "    text_file.write(string)\n",
    "  !chmod +x $script\n",
    "  !qsub -q $queue $script\n",
    "  !rm $script\n",
    "  \n",
    "ws = '/beegfs/work/graaf20/Rusitec_meta'\n",
    "\n",
    "#Create list of file indexes to access it later\n",
    "import os\n",
    "reads = [f.split('_')[0].split('.')[-1] for f in os.listdir(ws+'/Raw_reads')]\n",
    "reads = list(set(reads))\n",
    "reads = [str(x) for x in sorted([int(i) for i in reads])]\n",
    "print(reads)"
   ]
  },
  {
   "cell_type": "code",
   "execution_count": 12,
   "metadata": {},
   "outputs": [
    {
     "name": "stdout",
     "output_type": "stream",
     "text": [
      "\n",
      "mgmt02: \n",
      "                                                                                  Req'd       Req'd       Elap\n",
      "Job ID                  Username    Queue    Jobname          SessID  NDS   TSK   Memory      Time    S   Time\n",
      "----------------------- ----------- -------- ---------------- ------ ----- ------ --------- --------- - ---------\n",
      "9732652                 ho_graaf20  smp      s_130_Megahit.sh  25898     1     14     256gb  24:00:00 R  04:10:39\n",
      "9732653                 ho_graaf20  smp      s_131_Megahit.sh  32558     1     14     256gb  24:00:00 R  02:43:40\n",
      "9732654                 ho_graaf20  smp      s_132_Megahit.sh  36630     1     14     256gb  24:00:00 R  01:19:54\n",
      "9732655                 ho_graaf20  smp      s_133_Megahit.sh  35973     1     14     256gb  24:00:00 R  00:45:34\n",
      "9732656                 ho_graaf20  smp      s_134_Megahit.sh  32733     1     14     256gb  24:00:00 R  00:05:57\n",
      "9736505                 ho_graaf20  short    ReadQC.sh         12701     1      6      12gb  16:00:00 R  01:33:30\n"
     ]
    }
   ],
   "source": [
    "!qstat -u ho_graaf20"
   ]
  },
  {
   "cell_type": "code",
   "execution_count": 4,
   "metadata": {},
   "outputs": [],
   "source": [
    "!qdel 9732618 9732619 9732620 9732621 9732622 9732623 9732624"
   ]
  },
  {
   "cell_type": "markdown",
   "metadata": {},
   "source": [
    "# Megahit assembly"
   ]
  },
  {
   "cell_type": "code",
   "execution_count": 10,
   "metadata": {
    "collapsed": true,
    "jupyter": {
     "outputs_hidden": true
    }
   },
   "outputs": [
    {
     "name": "stdout",
     "output_type": "stream",
     "text": [
      "Collecting package metadata (current_repodata.json): done\n",
      "Solving environment: done\n",
      "\n",
      "## Package Plan ##\n",
      "\n",
      "  environment location: /home/ho/ho_genetics/ho_graaf20/miniconda3/envs/biobakery\n",
      "\n",
      "  added / updated specs:\n",
      "    - megahit\n",
      "\n",
      "\n",
      "The following packages will be downloaded:\n",
      "\n",
      "    package                    |            build\n",
      "    ---------------------------|-----------------\n",
      "    megahit-1.2.9              |       h8b12597_0         2.6 MB  bioconda\n",
      "    ------------------------------------------------------------\n",
      "                                           Total:         2.6 MB\n",
      "\n",
      "The following NEW packages will be INSTALLED:\n",
      "\n",
      "  megahit            bioconda/linux-64::megahit-1.2.9-h8b12597_0\n",
      "\n",
      "\n",
      "\n",
      "Downloading and Extracting Packages\n",
      "megahit-1.2.9        | 2.6 MB    | ##################################### | 100% \n",
      "Preparing transaction: done\n",
      "Verifying transaction: done\n",
      "Executing transaction: done\n"
     ]
    }
   ],
   "source": [
    "!conda install -y -c bioconda megahit"
   ]
  },
  {
   "cell_type": "code",
   "execution_count": 2,
   "metadata": {},
   "outputs": [
    {
     "name": "stdout",
     "output_type": "stream",
     "text": [
      "mkdir: cannot create directory ‘/beegfs/work/graaf20/Rusitec_meta/MegaHit’: File exists\n",
      "9732618\n",
      "9732619\n",
      "9732620\n",
      "9732621\n",
      "9732622\n",
      "9732623\n",
      "9732624\n",
      "9732625\n",
      "9732626\n",
      "9732627\n",
      "9732628\n",
      "9732629\n",
      "9732630\n",
      "9732631\n",
      "9732632\n",
      "9732633\n",
      "9732634\n",
      "9732635\n",
      "9732636\n",
      "9732637\n",
      "9732638\n",
      "9732639\n",
      "9732640\n",
      "9732641\n",
      "9732642\n",
      "9732643\n",
      "9732644\n",
      "9732645\n",
      "9732646\n",
      "9732647\n",
      "9732648\n",
      "9732649\n",
      "9732650\n",
      "9732651\n",
      "9732652\n",
      "9732653\n",
      "9732654\n",
      "9732655\n",
      "9732656\n"
     ]
    }
   ],
   "source": [
    "string = '''\n",
    "#PBS -l nodes=1:ppn=14\n",
    "#PBS -l walltime=24:00:00\n",
    "#PBS -l mem=256gb\n",
    "#PBS -S /bin/bash\n",
    "source $HOME/miniconda3/etc/profile.d/conda.sh\n",
    "conda activate biobakery\n",
    "export TMPDIR=$TMPDIR\n",
    "%s\n",
    "'''\n",
    "mH = ws+'/MegaHit'\n",
    "!mkdir $mH\n",
    "tr = ws+'/Trimmed_merged_reads'\n",
    "import os\n",
    "for read in reads:\n",
    "  #if read != '1':\n",
    "  #  continue\n",
    "  out = mH+'/%s'  % str(read)\n",
    "  if os.path.exists(out+'/final.contigs.fa'): \n",
    "    continue\n",
    "  mer = tr+'/%s_merged.fq.gz'  % str(read)\n",
    "  unm = tr+'/%s_unmerged.fq.gz'% str(read)\n",
    "  command = 'megahit -r %s --12 %s -o %s --mem-flag 2 -t 14'%(mer,unm,out)\n",
    "  bash(string%command,'s_'+read+'_Megahit','smp')"
   ]
  },
  {
   "cell_type": "code",
   "execution_count": 4,
   "metadata": {},
   "outputs": [],
   "source": [
    "!rm $ws/*_Megahit.sh*"
   ]
  },
  {
   "cell_type": "code",
   "execution_count": 6,
   "metadata": {},
   "outputs": [
    {
     "name": "stdout",
     "output_type": "stream",
     "text": [
      "mv: cannot stat ‘/beegfs/work/graaf20/Rusitec_meta/MegaHit/4/final.contigs.fa’: No such file or directory\n",
      "rm: cannot remove ‘/beegfs/work/graaf20/Rusitec_meta/MegaHit/4’: No such file or directory\n"
     ]
    }
   ],
   "source": [
    "mH = ws+'/MegaHit'\n",
    "for read in reads:\n",
    "  #if read != '4':\n",
    "  #  continue\n",
    "  ass = mH+'/%s/final.contigs.fa'    %read\n",
    "  nas = mH+'/%s_megahit_assembly.fa' %read\n",
    "  !mv $ass $nas\n",
    "  !rm -r $mH/$read"
   ]
  },
  {
   "cell_type": "code",
   "execution_count": null,
   "metadata": {},
   "outputs": [],
   "source": []
  }
 ],
 "metadata": {
  "kernelspec": {
   "display_name": "Python 3 (ipykernel)",
   "language": "python",
   "name": "python3"
  },
  "language_info": {
   "codemirror_mode": {
    "name": "ipython",
    "version": 3
   },
   "file_extension": ".py",
   "mimetype": "text/x-python",
   "name": "python",
   "nbconvert_exporter": "python",
   "pygments_lexer": "ipython3",
   "version": "3.8.5"
  }
 },
 "nbformat": 4,
 "nbformat_minor": 4
}
