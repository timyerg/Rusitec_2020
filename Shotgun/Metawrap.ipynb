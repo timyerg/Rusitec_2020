{
 "cells": [
  {
   "cell_type": "markdown",
   "id": "f38561d8",
   "metadata": {
    "tags": []
   },
   "source": [
    "# Bash function"
   ]
  },
  {
   "cell_type": "code",
   "execution_count": 2,
   "id": "a07a9da0",
   "metadata": {
    "tags": []
   },
   "outputs": [
    {
     "name": "stdout",
     "output_type": "stream",
     "text": [
      "rm: cannot remove ‘/beegfs/work/graaf20/Rusitec_meta/Pooled/.ipynb_checkpoints’: No such file or directory\n",
      "['1', '4', '9', '11', '13', '15', '17', '19', '21', '23', '25', '27', '29', '31', '44', '45', '46', '47', '48', '49', '50', '51', '52', '53', '54', '55', '80', '83', '88', '90', '92', '94', '96', '98', '100', '102', '104', '106', '108', '110', '123', '124', '125', '126', '127', '128', '129', '130', '131', '132', '133', '134']\n"
     ]
    }
   ],
   "source": [
    "def bash(string,name,queue):\n",
    "  script = \"%s.sh\"%name\n",
    "  with open(script, \"w\") as text_file:\n",
    "    text_file.write(string)\n",
    "  !chmod +x $script\n",
    "  !qsub -q $queue $script\n",
    "  !rm $script\n",
    "  \n",
    "ws = '/beegfs/work/graaf20/Rusitec_meta'\n",
    "\n",
    "#Create list of file indexes to access it later\n",
    "import os\n",
    "import pandas as pd\n",
    "md = pd.read_csv('metadata.tsv',index_col=0,sep='\\t')\n",
    "bss = md.BS.unique()\n",
    "!rm -r $ws/Pooled/.ipynb_checkpoints\n",
    "reads = [f.split('_')[0] for f in os.listdir(ws+'/Pooled') if 'pooled' not in f]\n",
    "reads = list(set(reads))\n",
    "reads = [str(x) for x in sorted([int(i) for i in reads])]\n",
    "print(reads)"
   ]
  },
  {
   "cell_type": "code",
   "execution_count": 2,
   "id": "f612e53d",
   "metadata": {
    "tags": []
   },
   "outputs": [
    {
     "name": "stdout",
     "output_type": "stream",
     "text": [
      "fatal: destination path 'metaWRAP' already exists and is not an empty directory.\n"
     ]
    }
   ],
   "source": [
    "!git clone https://github.com/bxlab/metaWRAP.git"
   ]
  },
  {
   "cell_type": "markdown",
   "id": "2fafc762",
   "metadata": {},
   "source": [
    "# Databases"
   ]
  },
  {
   "cell_type": "code",
   "execution_count": 5,
   "id": "091f7427",
   "metadata": {},
   "outputs": [
    {
     "name": "stdout",
     "output_type": "stream",
     "text": [
      "9734905\n"
     ]
    }
   ],
   "source": [
    "string = '''\n",
    "#PBS -l nodes=1:ppn=24\n",
    "#PBS -l walltime=48:00:00\n",
    "#PBS -l mem=256gb\n",
    "#PBS -S /bin/bash\n",
    "source $HOME/miniconda3/etc/profile.d/conda.sh\n",
    "conda activate metawrap\n",
    "export TMPDIR=$TMPDIR\n",
    "kraken2-build --download-library archaea --db %s --no-masking\n",
    "kraken2-build --download-library bacteria --db %s --no-masking\n",
    "kraken2-build --download-library protozoa --db %s --no-masking\n",
    "kraken2-build --download-library fungi --db %s --no-masking\n",
    "kraken2-build --download-taxonomy --db %s\n",
    "kraken2-build --build --threads 24 --db %s\n",
    "'''\n",
    "KD = ws+'/Databases/Kraken2'\n",
    "!mkdir $KD\n",
    "bash(string%(KD,KD,KD,KD,KD,KD),'Krk2_db','smp')\n"
   ]
  },
  {
   "cell_type": "code",
   "execution_count": 6,
   "id": "ea557076",
   "metadata": {},
   "outputs": [
    {
     "name": "stdout",
     "output_type": "stream",
     "text": [
      "mkdir: cannot create directory ‘/beegfs/work/graaf20/Rusitec_meta/Databases/Kraken2’: File exists\n",
      "9735450\n"
     ]
    }
   ],
   "source": [
    "string = '''\n",
    "#PBS -l nodes=1:ppn=24\n",
    "#PBS -l walltime=48:00:00\n",
    "#PBS -l mem=256gb\n",
    "#PBS -S /bin/bash\n",
    "source $HOME/miniconda3/etc/profile.d/conda.sh\n",
    "conda activate metawrap\n",
    "export TMPDIR=$TMPDIR\n",
    "kraken2-build --build --threads 24 --db %s\n",
    "'''\n",
    "KD = ws+'/Databases/Kraken2'\n",
    "!mkdir $KD\n",
    "bash(string%(KD),'Krk2_db','smp')"
   ]
  },
  {
   "cell_type": "code",
   "execution_count": 6,
   "id": "d6a80cd7",
   "metadata": {},
   "outputs": [],
   "source": [
    "ref = ws+'/Databases/Cattle_db/GCF_002263795.1.fna.gz'\n",
    "unz = ws+'/Databases/Cattle_db/GCF_002263795.1.fna'\n",
    "!zcat $ref > $unz"
   ]
  },
  {
   "cell_type": "code",
   "execution_count": 3,
   "id": "3e741eee",
   "metadata": {},
   "outputs": [
    {
     "name": "stdout",
     "output_type": "stream",
     "text": [
      "9735448\n"
     ]
    }
   ],
   "source": [
    "string = '''\n",
    "#PBS -l nodes=1:ppn=4\n",
    "#PBS -l walltime=24:00:00\n",
    "#PBS -l mem=8gb\n",
    "#PBS -S /bin/bash\n",
    "source $HOME/miniconda3/etc/profile.d/conda.sh\n",
    "conda activate metawrap\n",
    "export TMPDIR=$TMPDIR\n",
    "bmtool -d %s -o %s\n",
    "'''\n",
    "ref = ws+'/Databases/Cattle_db/GCF_002263795.1.fna'\n",
    "srp = ws+'/Databases/Cattle_db/GCF_002263795.srprism'\n",
    "bmt = ws+'/Databases/Cattle_db/GCF_002263795.bitmask'\n",
    "bash(string%(ref,bmt),'bmt_db','short')"
   ]
  },
  {
   "cell_type": "code",
   "execution_count": 9,
   "id": "8edcd67a",
   "metadata": {},
   "outputs": [
    {
     "name": "stdout",
     "output_type": "stream",
     "text": [
      "9735491\n"
     ]
    }
   ],
   "source": [
    "string = '''\n",
    "#PBS -l nodes=1:ppn=2\n",
    "#PBS -l walltime=12:00:00\n",
    "#PBS -l mem=100gb\n",
    "#PBS -S /bin/bash\n",
    "source $HOME/miniconda3/etc/profile.d/conda.sh\n",
    "conda activate metawrap\n",
    "export TMPDIR=$TMPDIR\n",
    "srprism mkindex -i %s -o %s -M 100000\n",
    "'''\n",
    "ref = ws+'/Databases/Cattle_db/GCF_002263795.1.fna'\n",
    "srp = ws+'/Databases/Cattle_db/GCF_002263795.srprism'\n",
    "bmt = ws+'/Databases/Cattle_db/GCF_002263795.bitmask'\n",
    "bash(string%(ref,srp),'spr_db','short')"
   ]
  },
  {
   "cell_type": "code",
   "execution_count": 4,
   "id": "593d13e9",
   "metadata": {},
   "outputs": [
    {
     "name": "stdout",
     "output_type": "stream",
     "text": [
      "/bin/bash: srprism: command not found\n"
     ]
    }
   ],
   "source": [
    "ref = ws+'/Databases/Cattle_db/GCF_002263795.1.fna'\n",
    "srp = ws+'/Databases/Cattle_db/GCF_002263795.srprism'\n",
    "bmt = ws+'/Databases/Cattle_db/GCF_002263795.bitmask' \n",
    "!srprism mkindex -i Databases/Cattle_db/GCF_002263795.1.fna -o Databases/Cattle_db/GCF_002263795.bitmask -M 100000"
   ]
  },
  {
   "cell_type": "code",
   "execution_count": 12,
   "id": "d948e914",
   "metadata": {},
   "outputs": [
    {
     "name": "stdout",
     "output_type": "stream",
     "text": [
      "mkdir: cannot create directory ‘/beegfs/work/graaf20/Rusitec_meta/Databases/NCBI_nt’: File exists\n",
      "9732615\n"
     ]
    }
   ],
   "source": [
    "string = '''\n",
    "#PBS -l nodes=1:ppn=2\n",
    "#PBS -l walltime=48:00:00\n",
    "#PBS -l mem=15gb\n",
    "#PBS -S /bin/bash\n",
    "source $HOME/miniconda3/etc/profile.d/conda.sh\n",
    "conda activate metawrap\n",
    "export TMPDIR=$TMPDIR\n",
    "cd %s\n",
    "wget \"ftp://ftp.ncbi.nlm.nih.gov/blast/db/nt.*.tar.gz\"\n",
    "for a in nt.*.tar.gz; do tar xzf $a; done\n",
    "'''\n",
    "BL = ws+'/Databases/NCBI_nt'\n",
    "!mkdir $BL\n",
    "bash(string%(BL),'NCBI_nt_db','short')"
   ]
  },
  {
   "cell_type": "code",
   "execution_count": 11,
   "id": "bb0af929",
   "metadata": {},
   "outputs": [
    {
     "name": "stdout",
     "output_type": "stream",
     "text": [
      "9732614\n"
     ]
    }
   ],
   "source": [
    "string = '''\n",
    "#PBS -l nodes=1:ppn=2\n",
    "#PBS -l walltime=48:00:00\n",
    "#PBS -l mem=10gb\n",
    "#PBS -S /bin/bash\n",
    "source $HOME/miniconda3/etc/profile.d/conda.sh\n",
    "conda activate metawrap\n",
    "export TMPDIR=$TMPDIR\n",
    "cd %s\n",
    "wget ftp://ftp.ncbi.nlm.nih.gov/pub/taxonomy/taxdump.tar.gz\n",
    "tar -xvf taxdump.tar.gz\n",
    "'''\n",
    "Tx = ws+'/Databases/NCBI_tax'\n",
    "!mkdir $Tx\n",
    "bash(string%(Tx),'NCBI_tax_db','short')"
   ]
  },
  {
   "cell_type": "code",
   "execution_count": 3,
   "id": "ded01a75",
   "metadata": {},
   "outputs": [],
   "source": [
    "!cp -r metaWRAP/bin/* ~/miniconda3/envs/metawrap/bin/"
   ]
  },
  {
   "cell_type": "markdown",
   "id": "f555d27a",
   "metadata": {},
   "source": [
    "# ReadQC"
   ]
  },
  {
   "cell_type": "code",
   "execution_count": 84,
   "id": "1fdb77e2",
   "metadata": {},
   "outputs": [
    {
     "name": "stdout",
     "output_type": "stream",
     "text": [
      "9736505\n"
     ]
    }
   ],
   "source": [
    "string = '''\n",
    "#PBS -l nodes=1:ppn=6\n",
    "#PBS -l walltime=16:00:00\n",
    "#PBS -l mem=12gb\n",
    "#PBS -S /bin/bash\n",
    "source $HOME/miniconda3/etc/profile.d/conda.sh\n",
    "conda activate metawrap\n",
    "export TMPDIR=$TMPDIR\n",
    "metawrap read_qc -1 %s -2 %s -t 6 -o %s -x GCF_002263795\n",
    "conda deactivate\n",
    "'''\n",
    "RQ = ws+'/ReadQC'\n",
    "!mkdir $RQ\n",
    "import os\n",
    "for read in reads:\n",
    "  #if read != '4':\n",
    "  #  continue\n",
    "  out = RQ+'/%s' % str(read)\n",
    "  if os.path.exists(out): continue\n",
    "  in1 = ws+'/Raw_reads/rstc.%s_1.fq.gz' % str(read)\n",
    "  in2 = ws+'/Raw_reads/rstc.%s_2.fq.gz' % str(read)\n",
    "  bash(string%(in1,in2,out),'%_ReadQC'%read,'short')"
   ]
  },
  {
   "cell_type": "code",
   "execution_count": 3,
   "id": "3a1cf0a0",
   "metadata": {},
   "outputs": [
    {
     "name": "stdout",
     "output_type": "stream",
     "text": [
      "mkdir: cannot create directory ‘/beegfs/work/graaf20/Rusitec_meta/ReadQC/stats’: File exists\n",
      "mv: cannot stat ‘/beegfs/work/graaf20/Rusitec_meta/ReadQC.sh.*’: No such file or directory\n"
     ]
    }
   ],
   "source": [
    "!mkdir $ws/ReadQC/stats\n",
    "!mv $ws/ReadQC.sh.* $ws/ReadQC/stats/"
   ]
  },
  {
   "cell_type": "code",
   "execution_count": 50,
   "id": "aae78322",
   "metadata": {
    "tags": []
   },
   "outputs": [
    {
     "name": "stdout",
     "output_type": "stream",
     "text": [
      "1 final_pure_reads_1.fastq 13.848\n",
      "1 final_pure_reads_2.fastq 13.845\n",
      "final_pure_reads_1.fastq is missing for sample: 4\n"
     ]
    },
    {
     "ename": "FileNotFoundError",
     "evalue": "[Errno 2] No such file or directory: '/beegfs/work/graaf20/Rusitec_meta/ReadQC/4/final_pure_reads_1.fastq'",
     "output_type": "error",
     "traceback": [
      "\u001b[0;31m---------------------------------------------------------------------------\u001b[0m",
      "\u001b[0;31mFileNotFoundError\u001b[0m                         Traceback (most recent call last)",
      "\u001b[0;32m<ipython-input-50-08b0a1dbb0b3>\u001b[0m in \u001b[0;36m<module>\u001b[0;34m\u001b[0m\n\u001b[1;32m     12\u001b[0m       \u001b[0mprint\u001b[0m\u001b[0;34m(\u001b[0m\u001b[0mfile\u001b[0m\u001b[0;34m,\u001b[0m\u001b[0;34m'is missing for sample:'\u001b[0m\u001b[0;34m,\u001b[0m\u001b[0mread\u001b[0m\u001b[0;34m)\u001b[0m\u001b[0;34m\u001b[0m\u001b[0;34m\u001b[0m\u001b[0m\n\u001b[1;32m     13\u001b[0m     \u001b[0;31m# check if size of pure reads is making sense\u001b[0m\u001b[0;34m\u001b[0m\u001b[0;34m\u001b[0m\u001b[0;34m\u001b[0m\u001b[0m\n\u001b[0;32m---> 14\u001b[0;31m     \u001b[0msize\u001b[0m \u001b[0;34m=\u001b[0m \u001b[0mround\u001b[0m\u001b[0;34m(\u001b[0m\u001b[0mos\u001b[0m\u001b[0;34m.\u001b[0m\u001b[0mstat\u001b[0m\u001b[0;34m(\u001b[0m\u001b[0mout\u001b[0m\u001b[0;34m+\u001b[0m\u001b[0;34m'/%s'\u001b[0m\u001b[0;34m%\u001b[0m\u001b[0mfile\u001b[0m\u001b[0;34m)\u001b[0m\u001b[0;34m.\u001b[0m\u001b[0mst_size\u001b[0m\u001b[0;34m*\u001b[0m\u001b[0;36m1e-9\u001b[0m\u001b[0;34m,\u001b[0m\u001b[0;36m3\u001b[0m\u001b[0;34m)\u001b[0m\u001b[0;34m\u001b[0m\u001b[0;34m\u001b[0m\u001b[0m\n\u001b[0m\u001b[1;32m     15\u001b[0m     \u001b[0;32mif\u001b[0m \u001b[0msize\u001b[0m \u001b[0;34m<\u001b[0m \u001b[0;36m16\u001b[0m\u001b[0;34m:\u001b[0m\u001b[0;34m\u001b[0m\u001b[0;34m\u001b[0m\u001b[0m\n\u001b[1;32m     16\u001b[0m       \u001b[0mprint\u001b[0m\u001b[0;34m(\u001b[0m\u001b[0mread\u001b[0m\u001b[0;34m,\u001b[0m\u001b[0mfile\u001b[0m\u001b[0;34m,\u001b[0m\u001b[0msize\u001b[0m\u001b[0;34m)\u001b[0m\u001b[0;34m\u001b[0m\u001b[0;34m\u001b[0m\u001b[0m\n",
      "\u001b[0;31mFileNotFoundError\u001b[0m: [Errno 2] No such file or directory: '/beegfs/work/graaf20/Rusitec_meta/ReadQC/4/final_pure_reads_1.fastq'"
     ]
    }
   ],
   "source": [
    "# Check ReadQC outputs\n",
    "import os\n",
    "RQ = ws+'/ReadQC'\n",
    "for read in reads:\n",
    "  out = RQ+'/%s'%read\n",
    "  #check output dir\n",
    "  if os.path.exists(out) == False:\n",
    "    print('ReadQC output is missing for sample: ',read)\n",
    "  for file in ['final_pure_reads_1.fastq','final_pure_reads_2.fastq']:\n",
    "    #check if pure reads in output dir\n",
    "    if file not in os.listdir(out):\n",
    "      print(file,'is missing for sample:',read)\n",
    "    # check if size of pure reads is making sense\n",
    "    size = round(os.stat(out+'/%s'%file).st_size*1e-9,3)\n",
    "    if size < 16:\n",
    "      print(read,file,size)"
   ]
  },
  {
   "cell_type": "code",
   "execution_count": 62,
   "id": "206805df",
   "metadata": {
    "tags": []
   },
   "outputs": [
    {
     "name": "stdout",
     "output_type": "stream",
     "text": [
      "9737128\n"
     ]
    }
   ],
   "source": [
    "# gzip reads to save some space\n",
    "string = '''\n",
    "#PBS -l nodes=1:ppn=1\n",
    "#PBS -l walltime=3:00:00\n",
    "#PBS -l mem=5gb\n",
    "#PBS -S /bin/bash\n",
    "source $HOME/miniconda3/etc/profile.d/conda.sh\n",
    "conda activate metawrap\n",
    "export TMPDIR=$TMPDIR\n",
    "gzip %s/*.fastq\n",
    "conda deactivate\n",
    "'''\n",
    "import os\n",
    "RQ = ws+'/ReadQC'\n",
    "for read in reads:\n",
    "  #if read != '4':\n",
    "  #  continue\n",
    "  out = RQ+'/%s'%read\n",
    "  bash(string%out,'%s_gzip'%read,'short')"
   ]
  },
  {
   "cell_type": "markdown",
   "id": "7017dc67",
   "metadata": {},
   "source": [
    "# Pool samples by metadata"
   ]
  },
  {
   "cell_type": "code",
   "execution_count": 15,
   "id": "2e5d4341",
   "metadata": {
    "collapsed": true,
    "jupyter": {
     "outputs_hidden": true
    },
    "tags": []
   },
   "outputs": [
    {
     "name": "stdout",
     "output_type": "stream",
     "text": [
      "mkdir: cannot create directory ‘/beegfs/work/graaf20/Rusitec_meta/Pooled’: File exists\n",
      "9776982\n",
      "9776983\n",
      "9776985\n",
      "9776986\n",
      "9776987\n",
      "9776988\n",
      "9776989\n",
      "9776990\n",
      "9776991\n",
      "9776992\n",
      "9776993\n",
      "9776994\n",
      "9776996\n",
      "9776997\n",
      "9776998\n",
      "9776999\n",
      "9777000\n",
      "9777001\n",
      "9777002\n",
      "9777003\n",
      "9777004\n",
      "9777005\n",
      "9777006\n",
      "9777007\n",
      "9777009\n",
      "9777010\n",
      "9777011\n",
      "9777012\n",
      "9777013\n",
      "9777014\n",
      "9777015\n",
      "9777016\n",
      "9777017\n",
      "9777018\n",
      "9777019\n",
      "9777020\n",
      "9777022\n",
      "9777023\n",
      "9777024\n",
      "9777025\n",
      "9777026\n",
      "9777027\n",
      "9777028\n",
      "9777029\n",
      "9777030\n",
      "9777031\n",
      "9777032\n",
      "9777033\n",
      "9777035\n",
      "9777036\n",
      "9777037\n"
     ]
    }
   ],
   "source": [
    "string = '''\n",
    "#PBS -l nodes=1:ppn=1\n",
    "#PBS -l walltime=00:20:00\n",
    "#PBS -l mem=5gb\n",
    "#PBS -S /bin/bash\n",
    "\n",
    "cp %s %s\n",
    "cp %s %s\n",
    "'''\n",
    "\n",
    "import os\n",
    "import pandas as pd\n",
    "\n",
    "RQ = ws+'/ReadQC'\n",
    "Pl = ws+'/Pooled'\n",
    "!mkdir $Pl\n",
    "md = pd.read_csv('metadata.tsv',index_col=0,sep='\\t')\n",
    "for read in reads:\n",
    "  if read == '4':\n",
    "    continue\n",
    "  inp = RQ+'/%s'%read\n",
    "  name = md.loc[int(read),'BS_Day_Trt_Src']\n",
    "  inp1 = inp+'/final_pure_reads_1.fastq.gz'\n",
    "  inp2 = inp+'/final_pure_reads_2.fastq.gz'\n",
    "  out1 = Pl+'/'+read+'_'+name+'_1.fastq.gz'\n",
    "  out2 = Pl+'/'+read+'_'+name+'_2.fastq.gz'\n",
    "  bash(string%(inp1,out1,inp2,out2),'pool','tiny')"
   ]
  },
  {
   "cell_type": "code",
   "execution_count": 8,
   "id": "23d919ed",
   "metadata": {},
   "outputs": [
    {
     "name": "stdout",
     "output_type": "stream",
     "text": [
      "9786036\n",
      "9786037\n",
      "9786038\n",
      "9786039\n"
     ]
    }
   ],
   "source": [
    "#concatenate all samples\n",
    "string = '''\n",
    "#PBS -l nodes=1:ppn=1\n",
    "#PBS -l walltime=04:00:00\n",
    "#PBS -l mem=5gb\n",
    "#PBS -S /bin/bash\n",
    "\n",
    "cat %s/*_%s_*_1.fastq.gz > %s/%s_pooled_1.fastq.gz\n",
    "cat %s/*_%s_*_1.fastq.gz > %s/%s_pooled_2.fastq.gz\n",
    "'''\n",
    "import pandas as pd\n",
    "Pl = ws+'/Pooled'\n",
    "md = pd.read_csv('metadata.tsv',index_col=0,sep='\\t')\n",
    "for bs in bss:\n",
    "  bash(string%(Pl,bs,Pl,bs,Pl,bs,Pl,bs),'%s_pool'%bs,'short')\n",
    "  \n"
   ]
  },
  {
   "cell_type": "markdown",
   "id": "7be38c96",
   "metadata": {},
   "source": [
    "#  Assembling metagenomes"
   ]
  },
  {
   "cell_type": "code",
   "execution_count": 6,
   "id": "cc810982",
   "metadata": {
    "tags": []
   },
   "outputs": [],
   "source": [
    "#!rm -r $ws/Metaspades_pooled $ws/Kraken2 $ws/Metaspades $ws/MegaHit $ws/Trimmed_paired_reads $ws/Trimmed_merged_reads\n",
    "#!rm $ws/*.sh*"
   ]
  },
  {
   "cell_type": "code",
   "execution_count": 10,
   "id": "0eadd7b8",
   "metadata": {},
   "outputs": [
    {
     "name": "stdout",
     "output_type": "stream",
     "text": [
      "mkdir: cannot create directory ‘/beegfs/work/graaf20/Rusitec_meta/Metaspades_pooled’: File exists\n",
      "9908330\n"
     ]
    }
   ],
   "source": [
    "string = '''\n",
    "#PBS -l nodes=1:ppn=%s\n",
    "#PBS -l walltime=07:00:00:00\n",
    "#PBS -l mem=%sgb\n",
    "#PBS -S /bin/bash\n",
    "source $HOME/miniconda3/etc/profile.d/conda.sh\n",
    "conda activate metawrap\n",
    "\n",
    "metaspades.py -k 21,33,55,77 -1 %s/%s_pooled_1.fastq.gz -2 %s/%s_pooled_2.fastq.gz -o %s -m %s -t %s\n",
    "conda deactivate\n",
    "'''\n",
    "Pl = ws+'/Pooled'\n",
    "MSp = ws+'/Metaspades_pooled'\n",
    "!mkdir $MSp\n",
    "for bs in bss:\n",
    "  m, t = 1000, 40\n",
    "  if bs in ['RSP','RF']:\n",
    "    m, t = 500, 20\n",
    "  out = MSp+'/'+bs\n",
    "  bash(string%(t,m,Pl,bs,Pl,bs,out,m,t),'%s_MSpool'%bs,'smp')"
   ]
  },
  {
   "cell_type": "code",
   "execution_count": 15,
   "id": "ba97329a",
   "metadata": {
    "tags": []
   },
   "outputs": [
    {
     "name": "stdout",
     "output_type": "stream",
     "text": [
      "9904127\n",
      "9904128\n"
     ]
    }
   ],
   "source": [
    "string = '''\n",
    "#PBS -l nodes=1:ppn=%s\n",
    "#PBS -l walltime=07:00:00:00\n",
    "#PBS -l mem=%sgb\n",
    "#PBS -S /bin/bash\n",
    "source $HOME/miniconda3/etc/profile.d/conda.sh\n",
    "conda activate metawrap\n",
    "export TMPDIR=$TMPDIR\n",
    "metaspades.py -k 21,33,55,77 -o %s -m %s -t %s --restart-from last\n",
    "conda deactivate\n",
    "'''\n",
    "Pl = ws+'/Pooled'\n",
    "MSp = ws+'/Metaspades_pooled'\n",
    "for bs in bss:\n",
    "  m, t = 1000, 40\n",
    "  if bs in ['RSP','RF']: continue\n",
    "  out = MSp+'/'+bs\n",
    "  bash(string%(t,m,out,m,t),'%s_MSpool'%bs,'smp')"
   ]
  },
  {
   "cell_type": "code",
   "execution_count": 6,
   "id": "e2cdad2f",
   "metadata": {
    "tags": []
   },
   "outputs": [],
   "source": [
    "MS = ws+'/Metaspades'\n",
    "\n",
    "import os\n",
    "for read in reads:\n",
    "  out = MS+'/%s' % read\n",
    "  if 'final_assembly.fasta' not in os.listdir(out):\n",
    "    !rm -r $out"
   ]
  },
  {
   "cell_type": "markdown",
   "id": "c3e0f6b5",
   "metadata": {},
   "source": [
    "### Quast on assemblies"
   ]
  },
  {
   "cell_type": "code",
   "execution_count": 21,
   "id": "22e9363a",
   "metadata": {},
   "outputs": [
    {
     "name": "stdout",
     "output_type": "stream",
     "text": [
      "9911366\n"
     ]
    }
   ],
   "source": [
    "string = '''\n",
    "#PBS -l nodes=1:ppn=4\n",
    "#PBS -l walltime=02:00:00\n",
    "#PBS -l mem=32gb\n",
    "#PBS -S /bin/bash\n",
    "source $HOME/miniconda3/etc/profile.d/conda.sh\n",
    "conda activate metawrap\n",
    "export TMPDIR=$TMPDIR\n",
    "quast -t 4 -o %s %s\n",
    "conda deactivate\n",
    "'''\n",
    "MSp = ws+'/Metaspades_pooled'\n",
    "for bs in bss:\n",
    "  #if bs not in ['FL']: continue\n",
    "  ass = MSp+'/%s/scaffolds.fasta'%bs\n",
    "  out = MSp+'/'+bs+'/Quast'\n",
    "  bash(string%(out,ass),'%s_Quast'%bs,'short')"
   ]
  },
  {
   "cell_type": "code",
   "execution_count": 6,
   "id": "a6342b08",
   "metadata": {},
   "outputs": [
    {
     "name": "stdout",
     "output_type": "stream",
     "text": [
      "mkdir: cannot create directory ‘/beegfs/work/graaf20/Rusitec_meta/Metaspades’: File exists\n",
      "9925614\n"
     ]
    }
   ],
   "source": [
    "string = '''\n",
    "#PBS -l nodes=1:ppn=28\n",
    "#PBS -l walltime=07:00:00:00\n",
    "#PBS -l mem=128\n",
    "#PBS -S /bin/bash\n",
    "source $HOME/miniconda3/etc/profile.d/conda.sh\n",
    "conda activate metawrap\n",
    "metaspades.py -k 21,33,55,77 -1 %s -2 %s -o %s -m 128 -t 28\n",
    "quast -t 28 -o %s %s\n",
    "conda deactivate\n",
    "'''\n",
    "import os\n",
    "Pl = ws+'/Pooled'\n",
    "MS = ws+'/Metaspades'\n",
    "!mkdir $MS\n",
    "for read in reads:\n",
    "  out = MS+'/'+read\n",
    "  if read not in ['4']: continue\n",
    "  if os.path.exists(out): continue\n",
    "  r1 = Pl+'/%s_*_1.fastq.gz'%read\n",
    "  r2 = Pl+'/%s_*_2.fastq.gz'%read\n",
    "  ass = MS+'/%s/scaffolds.fasta'%read\n",
    "  qua = MS+'/%s/Quast'%read\n",
    "  bash(string%(r1,r2,out,ass,qua),'%s_MSpool'%read,'long')"
   ]
  },
  {
   "cell_type": "markdown",
   "id": "a491670b",
   "metadata": {},
   "source": [
    "### Assemble sample by sample using Megahit"
   ]
  },
  {
   "cell_type": "code",
   "execution_count": 12,
   "id": "9bd06112",
   "metadata": {},
   "outputs": [
    {
     "name": "stdout",
     "output_type": "stream",
     "text": [
      "9925617\n"
     ]
    }
   ],
   "source": [
    "string = '''\n",
    "#PBS -l nodes=1:ppn=28\n",
    "#PBS -l walltime=48:00:00\n",
    "#PBS -l mem=128\n",
    "#PBS -S /bin/bash\n",
    "source $HOME/miniconda3/etc/profile.d/conda.sh\n",
    "conda activate metawrap\n",
    "megahit -1 %s -2 %s -o %s -t 28 --presets meta-sensitive\n",
    "quast -t 28 -o %s %s\n",
    "conda deactivate\n",
    "'''\n",
    "import os\n",
    "Pl = ws+'/Pooled'\n",
    "MH = ws+'/Megahit'\n",
    "!mkdir $MH\n",
    "for read in reads:\n",
    "  out = MH+'/'+read\n",
    "  if read in ['4']: continue\n",
    "  if os.path.exists(out): continue\n",
    "  r1 = Pl+'/%s_*_1.fastq.gz'%read\n",
    "  r2 = Pl+'/%s_*_2.fastq.gz'%read\n",
    "  ass = MH+'/%s/final.contigs.fa'%read\n",
    "  qua = MH+'/%s/Quast'%read\n",
    "  bash(string%(r1,r2,out,qua,ass),'%s_MHit'%read,'short')"
   ]
  },
  {
   "cell_type": "code",
   "execution_count": 4,
   "id": "7cba3603",
   "metadata": {
    "collapsed": true,
    "jupyter": {
     "outputs_hidden": true
    },
    "tags": []
   },
   "outputs": [
    {
     "name": "stdout",
     "output_type": "stream",
     "text": [
      "1 1.354\n",
      "4 1.187\n",
      "9 0.438\n",
      "11 0.503\n",
      "13 0.508\n",
      "15 0.523\n",
      "17 0.513\n",
      "19 0.518\n",
      "21 0.422\n",
      "23 0.581\n",
      "25 0.491\n",
      "27 0.607\n",
      "29 0.488\n",
      "31 0.506\n",
      "44 0.743\n",
      "45 0.718\n",
      "46 0.773\n",
      "47 0.729\n",
      "48 0.735\n",
      "49 0.649\n",
      "50 0.822\n",
      "51 0.838\n",
      "52 0.764\n",
      "53 0.686\n",
      "54 0.733\n",
      "55 0.678\n",
      "80 1.453\n",
      "83 1.355\n",
      "88 0.411\n",
      "90 0.507\n",
      "92 0.511\n",
      "94 0.506\n",
      "96 0.551\n",
      "98 0.619\n",
      "100 0.417\n",
      "102 0.482\n",
      "104 0.591\n",
      "106 0.509\n",
      "108 0.525\n",
      "110 0.571\n",
      "123 0.684\n",
      "124 0.69\n",
      "125 0.747\n",
      "126 0.719\n",
      "127 0.75\n",
      "128 0.838\n",
      "129 0.876\n",
      "130 0.839\n",
      "131 0.797\n",
      "132 0.698\n",
      "133 0.787\n",
      "134 0.854\n"
     ]
    }
   ],
   "source": [
    "#print assembly size, gb\n",
    "MH = ws+'/Megahit'\n",
    "for read in reads:\n",
    "  inp = MH+'/%s/final.contigs.fa' % read\n",
    "  #if round(os.stat(inp).st_size * 9.5367431640625E-10,1) < 5:\n",
    "  print(read, round(os.stat(inp).st_size * 9.5367431640625E-10,3))"
   ]
  },
  {
   "cell_type": "code",
   "execution_count": 5,
   "id": "85331da1",
   "metadata": {},
   "outputs": [],
   "source": [
    "#!rm $ws/*MHit.sh.*"
   ]
  },
  {
   "cell_type": "markdown",
   "id": "856dedc4",
   "metadata": {},
   "source": [
    "# Kraken2"
   ]
  },
  {
   "cell_type": "markdown",
   "id": "d00d33e1",
   "metadata": {},
   "source": [
    "### By samples"
   ]
  },
  {
   "cell_type": "code",
   "execution_count": 61,
   "id": "296687fc",
   "metadata": {
    "tags": []
   },
   "outputs": [
    {
     "name": "stdout",
     "output_type": "stream",
     "text": [
      "mkdir: cannot create directory ‘/beegfs/work/graaf20/Rusitec_meta/Kraken2_separate’: File exists\n",
      "9925945\n"
     ]
    }
   ],
   "source": [
    "string = '''\n",
    "#PBS -l nodes=1:ppn=14\n",
    "#PBS -l walltime=08:00:00\n",
    "#PBS -l mem=65gb\n",
    "#PBS -S /bin/bash\n",
    "source $HOME/miniconda3/etc/profile.d/conda.sh\n",
    "conda activate metawrap\n",
    "export TMPDIR=$TMPDIR\n",
    "metawrap kraken2 -o %s -t 14 %s %s\n",
    "conda deactivate\n",
    "'''\n",
    "Kr = ws+'/Kraken2_separate'\n",
    "!mkdir $Kr\n",
    "import os\n",
    "for read in reads:\n",
    "  #if read != '1': continue\n",
    "  out = Kr+'/%s' % read\n",
    "  if os.path.exists(out): continue\n",
    "  in1 = ws+'/Megahit/%s/final.contigs.fa' % read\n",
    "  in2 = ws+'/Pooled/%s_*.fastq.gz' % read\n",
    "  bash(string%(out,in1,in2),'%s_Krk2'%read,'short')\n",
    "  !mkdir $out"
   ]
  },
  {
   "cell_type": "code",
   "execution_count": 152,
   "id": "9a46f071",
   "metadata": {
    "tags": []
   },
   "outputs": [],
   "source": [
    "#!rm -r Kraken2_separate/19\n",
    "!rm *_Krk2.sh*"
   ]
  },
  {
   "cell_type": "markdown",
   "id": "e26e6309",
   "metadata": {},
   "source": [
    "### Pooled"
   ]
  },
  {
   "cell_type": "code",
   "execution_count": 18,
   "id": "9ceb024c",
   "metadata": {
    "collapsed": true,
    "jupyter": {
     "outputs_hidden": true
    },
    "tags": []
   },
   "outputs": [
    {
     "name": "stdout",
     "output_type": "stream",
     "text": [
      "9911360\n",
      "9911361\n",
      "9911362\n",
      "9911363\n"
     ]
    }
   ],
   "source": [
    "string = '''\n",
    "#PBS -l nodes=1:ppn=24\n",
    "#PBS -l walltime=24:00:00\n",
    "#PBS -l mem=60gb\n",
    "#PBS -S /bin/bash\n",
    "source $HOME/miniconda3/etc/profile.d/conda.sh\n",
    "conda activate metawrap\n",
    "export TMPDIR=$TMPDIR\n",
    "metawrap kraken2 -o %s -t 24 %s %s\n",
    "conda deactivate\n",
    "'''\n",
    "\n",
    "Kr = ws+'/Kraken2'\n",
    "!mkdir $Kr\n",
    "for bs in bss:\n",
    "  out = Kr+'/%s' % bs\n",
    "  if os.path.exists(out): continue\n",
    "  in1 = ws+'/Metaspades_pooled/%s/scaffolds.fasta' % bs\n",
    "  in2 = ws+'/Pooled/*_%s_d*.fastq.gz' % bs\n",
    "  bash(string%(out,in1,in2),'%s_Krk2'%bs,'short')\n",
    "  !mkdir $out"
   ]
  },
  {
   "cell_type": "markdown",
   "id": "2a444d59",
   "metadata": {},
   "source": [
    "# Binning"
   ]
  },
  {
   "cell_type": "markdown",
   "id": "13f4b9b3",
   "metadata": {},
   "source": [
    "### By samples"
   ]
  },
  {
   "cell_type": "code",
   "execution_count": 182,
   "id": "2b3cf94b",
   "metadata": {
    "tags": []
   },
   "outputs": [
    {
     "name": "stdout",
     "output_type": "stream",
     "text": [
      "mkdir: cannot create directory ‘/beegfs/work/graaf20/Rusitec_meta/Initial_Bins_separated’: File exists\n",
      "9926514\n"
     ]
    }
   ],
   "source": [
    "string = '''\n",
    "#PBS -l nodes=1:ppn=24\n",
    "#PBS -l walltime=24:00:00\n",
    "#PBS -l mem=60gb\n",
    "#PBS -S /bin/bash\n",
    "source $HOME/miniconda3/etc/profile.d/conda.sh\n",
    "conda activate metawrap\n",
    "export TMPDIR=$TMPDIR\n",
    "metawrap binning -o %s -t 24 -a %s --metabat2 --maxbin2 --concoct %s\n",
    "conda deactivate\n",
    "'''\n",
    "Bins = ws+'/Initial_Bins_separated'\n",
    "!mkdir $Bins\n",
    "for read in reads:\n",
    "  #if read != '1': continue\n",
    "  out = Bins+'/%s' % read\n",
    "  if os.path.exists(out): continue\n",
    "  in1 = ws+'/Megahit/%s/final.contigs.fa' % read\n",
    "  in2 = ws+'/Pooled/%s_*.fastq.gz' % read\n",
    "  bash(string%(out,in1,in2),'%s_bins'%read,'short')\n",
    "  !mkdir $out"
   ]
  },
  {
   "cell_type": "code",
   "execution_count": 47,
   "id": "c156ee4c",
   "metadata": {},
   "outputs": [],
   "source": [
    "#!rm -r Initial_Bins_separated/134\n",
    "#!rm 134_bins.sh*"
   ]
  },
  {
   "cell_type": "markdown",
   "id": "2a67efb8",
   "metadata": {},
   "source": [
    "### Pooled"
   ]
  },
  {
   "cell_type": "code",
   "execution_count": 4,
   "id": "4a46121b",
   "metadata": {},
   "outputs": [],
   "source": [
    "Bins = ws+'/Initial_Bins_pooled'\n",
    "#!rm -r $Bins"
   ]
  },
  {
   "cell_type": "code",
   "execution_count": 43,
   "id": "58e29dda",
   "metadata": {
    "tags": []
   },
   "outputs": [
    {
     "name": "stdout",
     "output_type": "stream",
     "text": [
      "mkdir: cannot create directory ‘/beegfs/work/graaf20/Rusitec_meta/Initial_Bins_pooled’: File exists\n"
     ]
    }
   ],
   "source": [
    "string = '''\n",
    "#PBS -l nodes=1:ppn=24\n",
    "#PBS -l walltime=7:00:00:00\n",
    "#PBS -l mem=60gb\n",
    "#PBS -S /bin/bash\n",
    "source $HOME/miniconda3/etc/profile.d/conda.sh\n",
    "conda activate metawrap\n",
    "export TMPDIR=$TMPDIR\n",
    "metawrap binning -o %s -t 24 -a %s --metabat2 --maxbin2 --concoct %s\n",
    "conda deactivate\n",
    "'''\n",
    "Bins = ws+'/Initial_Bins_pooled'\n",
    "!mkdir $Bins\n",
    "for bs in bss:\n",
    "  out = Bins+'/%s' % bs\n",
    "  if os.path.exists(out): \n",
    "    continue\n",
    "  in1 = ws+'/Metaspades_pooled/%s/scaffolds.fasta' % bs\n",
    "  in2 = ws+'/Pooled/*_%s_d*.fastq.gz' % bs\n",
    "  bash(string%(out,in1,in2),'%s_bins'%bs,'long')\n",
    "  !mkdir $out"
   ]
  },
  {
   "cell_type": "code",
   "execution_count": 44,
   "id": "ccebaf69",
   "metadata": {},
   "outputs": [
    {
     "name": "stdout",
     "output_type": "stream",
     "text": [
      "mkdir: cannot create directory ‘/beegfs/work/graaf20/Rusitec_meta/Initial_Bins_pooled’: File exists\n",
      "9925943\n",
      "mkdir: cannot create directory ‘/beegfs/work/graaf20/Rusitec_meta/Initial_Bins_pooled/FL’: File exists\n"
     ]
    }
   ],
   "source": [
    "string = '''\n",
    "#PBS -l nodes=1:ppn=28\n",
    "#PBS -l walltime=7:00:00:00\n",
    "#PBS -l mem=80gb\n",
    "#PBS -S /bin/bash\n",
    "source $HOME/miniconda3/etc/profile.d/conda.sh\n",
    "conda activate metawrap\n",
    "export TMPDIR=$TMPDIR\n",
    "metawrap binning -o %s -t 28 -a %s --maxbin2 %s\n",
    "conda deactivate\n",
    "'''\n",
    "Bins = ws+'/Initial_Bins_pooled'\n",
    "!mkdir $Bins\n",
    "for bs in bss:\n",
    "  if bs != 'FL':continue\n",
    "  out = Bins+'/%s' % bs\n",
    "  in1 = ws+'/Metaspades_pooled/%s/scaffolds.fasta' % bs\n",
    "  in2 = ws+'/Pooled/*_%s_d*.fastq.gz' % bs\n",
    "  bash(string%(out,in1,in2),'%s_bins'%bs,'long')"
   ]
  },
  {
   "cell_type": "code",
   "execution_count": 5,
   "id": "3f97be30",
   "metadata": {},
   "outputs": [],
   "source": [
    "#!rm -r $ws/Initial_Bins_pooled/FL"
   ]
  },
  {
   "cell_type": "markdown",
   "id": "82b4a27f",
   "metadata": {},
   "source": [
    "# Bin_refinement"
   ]
  },
  {
   "cell_type": "markdown",
   "id": "ad0b8a56",
   "metadata": {},
   "source": [
    "### By samples"
   ]
  },
  {
   "cell_type": "code",
   "execution_count": 28,
   "id": "093e712e",
   "metadata": {
    "tags": []
   },
   "outputs": [
    {
     "name": "stdout",
     "output_type": "stream",
     "text": [
      "mkdir: cannot create directory ‘/beegfs/work/graaf20/Rusitec_meta/Bins_refinement_separated_70_10’: File exists\n",
      "9927147\n"
     ]
    }
   ],
   "source": [
    "string = '''\n",
    "#PBS -l nodes=1:ppn=14\n",
    "#PBS -l walltime=24:00:00\n",
    "#PBS -l mem=70gb\n",
    "#PBS -S /bin/bash\n",
    "source $HOME/miniconda3/etc/profile.d/conda.sh\n",
    "conda activate metawrap\n",
    "export TMPDIR=$TMPDIR\n",
    "metawrap bin_refinement -o %s -t 14 -A %s/metabat2_bins/ -B %s/maxbin2_bins/ -C %s/concoct_bins/ -c 70 -x 10\n",
    "conda deactivate\n",
    "'''\n",
    "BR = ws+'/Bins_refinement_separated_70_10'\n",
    "!mkdir $BR\n",
    "import os\n",
    "for read in reads:\n",
    "  #if read in ['134']: continue\n",
    "  out = BR+'/%s' % read\n",
    "  if os.path.exists(out): continue\n",
    "  Bins = ws+'/Initial_Bins_separated/%s' % read\n",
    "  bash(string%(out,Bins,Bins,Bins),'%s_bins_ref_70_10'%read,'short')"
   ]
  },
  {
   "cell_type": "code",
   "execution_count": 27,
   "id": "f8188cef",
   "metadata": {},
   "outputs": [],
   "source": [
    "!rm -r Bins_refinement_separated_70_10/45\n",
    "!rm 45_bins_ref_70_10.sh.*\n",
    "\n",
    "#0 bins: 1, \n",
    "#low number bins: 80,83,4,"
   ]
  },
  {
   "cell_type": "markdown",
   "id": "8ce09085",
   "metadata": {},
   "source": [
    "### Pooled"
   ]
  },
  {
   "cell_type": "code",
   "execution_count": 5,
   "id": "4d557f8c",
   "metadata": {},
   "outputs": [
    {
     "name": "stdout",
     "output_type": "stream",
     "text": [
      "9929619\n",
      "9929620\n",
      "9929621\n",
      "9929622\n"
     ]
    }
   ],
   "source": [
    "string = '''\n",
    "#PBS -l nodes=1:ppn=12\n",
    "#PBS -l walltime=48:00:00\n",
    "#PBS -l mem=80gb\n",
    "#PBS -S /bin/bash\n",
    "source $HOME/miniconda3/etc/profile.d/conda.sh\n",
    "conda activate metawrap\n",
    "export TMPDIR=$TMPDIR\n",
    "metawrap bin_refinement -o %s -t 12 -A %s/metabat2_bins/ -B %s/maxbin2_bins/ -C %s/concoct_bins/ -c 70 -x 10\n",
    "conda deactivate\n",
    "'''\n",
    "BR = ws+'/Bins_refinement_pooled_70_10'\n",
    "!mkdir $BR\n",
    "import os\n",
    "for bs in bss:\n",
    "  #if bs == 'FL':continue\n",
    "  out = BR+'/%s' % bs\n",
    "  if os.path.exists(out):continue\n",
    "  bins = ws+'/Initial_Bins_pooled/%s' % bs\n",
    "  bash(string%(out,bins,bins,bins),'%s_bins_ref'%bs,'short')"
   ]
  },
  {
   "cell_type": "markdown",
   "id": "bea69235",
   "metadata": {},
   "source": [
    "# Reassemble_bins"
   ]
  },
  {
   "cell_type": "markdown",
   "id": "25b23fbb",
   "metadata": {},
   "source": [
    "### By samples"
   ]
  },
  {
   "cell_type": "code",
   "execution_count": 33,
   "id": "ffd3e532",
   "metadata": {
    "collapsed": true,
    "jupyter": {
     "outputs_hidden": true
    },
    "tags": []
   },
   "outputs": [
    {
     "name": "stdout",
     "output_type": "stream",
     "text": [
      "9928008\n",
      "9928009\n",
      "9928010\n",
      "9928011\n",
      "9928012\n",
      "9928013\n",
      "9928019\n",
      "9928020\n",
      "9928021\n",
      "9928022\n",
      "9928023\n",
      "9928024\n",
      "9928025\n",
      "9928026\n",
      "9928027\n",
      "9928028\n",
      "9928029\n",
      "9928030\n",
      "9928031\n",
      "9928032\n",
      "9928033\n",
      "9928034\n",
      "9928035\n",
      "9928036\n",
      "9928037\n",
      "9928038\n",
      "9928039\n",
      "9928040\n",
      "9928041\n",
      "9928042\n",
      "9928043\n",
      "9928044\n",
      "9928045\n",
      "9928046\n",
      "9928047\n",
      "9928048\n",
      "9928049\n",
      "9928050\n",
      "9928051\n",
      "9928052\n",
      "9928053\n",
      "9928054\n",
      "9928055\n",
      "9928056\n",
      "9928057\n",
      "9928058\n",
      "9928059\n",
      "9928060\n",
      "9928061\n",
      "9928062\n",
      "9928063\n",
      "9928064\n"
     ]
    }
   ],
   "source": [
    "string = '''\n",
    "#PBS -l nodes=1:ppn=14\n",
    "#PBS -l walltime=48:00:00\n",
    "#PBS -l mem=60gb\n",
    "#PBS -S /bin/bash\n",
    "source $HOME/miniconda3/etc/profile.d/conda.sh\n",
    "conda activate metawrap\n",
    "export TMPDIR=$TMPDIR\n",
    "metawrap reassemble_bins -o %s -1 %s -2 %s -t 14 -m 60 -c 70 -x 10 -b %s\n",
    "conda deactivate\n",
    "'''\n",
    "BR = ws+'/Bins_refinement_separated_70_10'\n",
    "RA = ws+'/Bins_reassembly_separated_70_10'\n",
    "!mkdir $RA\n",
    "import os\n",
    "for read in reads:\n",
    "  #if read not in ['1']: continue\n",
    "  out = RA+'/%s' % read\n",
    "  R1 = ws+'/Pooled/%s_*_1.fastq.gz' % read\n",
    "  R2 = ws+'/Pooled/%s_*_2.fastq.gz' % read\n",
    "  brs = BR+'/%s/metawrap_70_10_bins'% read\n",
    "  if os.path.exists(out): continue\n",
    "  bash(string%(out,R1,R2,brs),'%s_reassemble_70_10'%read,'short')"
   ]
  },
  {
   "cell_type": "markdown",
   "id": "cafd5c58",
   "metadata": {},
   "source": [
    "### Pooled"
   ]
  },
  {
   "cell_type": "code",
   "execution_count": 11,
   "id": "2d60b816",
   "metadata": {},
   "outputs": [
    {
     "name": "stdout",
     "output_type": "stream",
     "text": [
      "mkdir: cannot create directory ‘/beegfs/work/graaf20/Rusitec_meta/Bins_reassembly_pooled_70_10’: File exists\n",
      "9931897\n",
      "9931898\n"
     ]
    }
   ],
   "source": [
    "string = '''\n",
    "#PBS -l nodes=1:ppn=24\n",
    "#PBS -l walltime=7:00:00:00\n",
    "#PBS -l mem=100gb\n",
    "#PBS -S /bin/bash\n",
    "source $HOME/miniconda3/etc/profile.d/conda.sh\n",
    "conda activate metawrap\n",
    "export TMPDIR=$TMPDIR\n",
    "metawrap reassemble_bins -o %s -1 %s -2 %s -t 24 -m 100 -c 70 -x 10 -b %s\n",
    "conda deactivate\n",
    "'''\n",
    "BR = ws+'/Bins_refinement_pooled_70_10'\n",
    "RA = ws+'/Bins_reassembly_pooled_70_10'\n",
    "!mkdir $RA\n",
    "import os\n",
    "for bs in bss:\n",
    "  #if bs == 'FL':continue\n",
    "  out = RA+'/%s' % bs\n",
    "  R1 = ws+'/Pooled/%s_pooled_1.fastq.gz' % bs\n",
    "  R2 = ws+'/Pooled/%s_pooled_2.fastq.gz' % bs\n",
    "  brs = BR+'/%s/metawrap_70_10_bins'% bs\n",
    "  if os.path.exists(out): continue\n",
    "  bash(string%(out,R1,R2,brs),'%s_reassemble_70_10'%bs,'long')"
   ]
  },
  {
   "cell_type": "markdown",
   "id": "99e19a77",
   "metadata": {},
   "source": [
    "# Assign taxonomy to bins"
   ]
  },
  {
   "cell_type": "markdown",
   "id": "51c4b0f0",
   "metadata": {},
   "source": [
    "### By samples"
   ]
  },
  {
   "cell_type": "code",
   "execution_count": 35,
   "id": "f1269172",
   "metadata": {
    "collapsed": true,
    "jupyter": {
     "outputs_hidden": true
    },
    "tags": []
   },
   "outputs": [
    {
     "name": "stdout",
     "output_type": "stream",
     "text": [
      "mkdir: cannot create directory ‘/beegfs/work/graaf20/Rusitec_meta/Bins_classification_separated_70_10’: File exists\n",
      "9931557\n",
      "9931558\n",
      "9931559\n",
      "9931560\n",
      "9931561\n",
      "9931562\n",
      "9931563\n",
      "9931564\n",
      "9931565\n",
      "9931566\n",
      "9931567\n",
      "9931568\n",
      "9931569\n",
      "9931570\n",
      "9931571\n",
      "9931572\n",
      "9931573\n",
      "9931574\n",
      "9931575\n",
      "9931576\n",
      "9931577\n",
      "9931578\n",
      "9931579\n",
      "9931580\n",
      "9931581\n",
      "9931582\n",
      "9931583\n",
      "9931584\n",
      "9931585\n",
      "9931586\n",
      "9931587\n",
      "9931588\n",
      "9931589\n",
      "9931590\n",
      "9931591\n",
      "9931592\n",
      "9931593\n",
      "9931594\n",
      "9931595\n",
      "9931596\n",
      "9931597\n",
      "9931598\n",
      "9931599\n",
      "9931600\n",
      "9931601\n",
      "9931602\n",
      "9931603\n",
      "9931604\n",
      "9931605\n",
      "9931606\n",
      "9931607\n"
     ]
    }
   ],
   "source": [
    "string = '''\n",
    "#PBS -l nodes=1:ppn=12\n",
    "#PBS -l walltime=24:00:00\n",
    "#PBS -l mem=20gb\n",
    "#PBS -S /bin/bash\n",
    "source $HOME/miniconda3/etc/profile.d/conda.sh\n",
    "conda activate metawrap\n",
    "export TMPDIR=$TMPDIR\n",
    "metawrap classify_bins -b %s -o %s -t 12\n",
    "conda deactivate\n",
    "'''\n",
    "BC = ws+'/Bins_classification_separated_70_10'\n",
    "RA = ws+'/Bins_reassembly_separated_70_10'\n",
    "!mkdir $BC\n",
    "import os\n",
    "for read in reads:\n",
    "  #if read not in ['1']: continue\n",
    "  out = BC+'/%s' % read\n",
    "  bra = RA+'/%s/reassembled_bins'% read\n",
    "  if os.path.exists(out): continue\n",
    "  bash(string%(bra,out),'%s_taxabins'%read,'short')"
   ]
  },
  {
   "cell_type": "markdown",
   "id": "ee6bb58c",
   "metadata": {},
   "source": [
    "### Pooled"
   ]
  },
  {
   "cell_type": "code",
   "execution_count": 4,
   "id": "618295a6",
   "metadata": {},
   "outputs": [
    {
     "name": "stdout",
     "output_type": "stream",
     "text": [
      "mkdir: cannot create directory ‘/beegfs/work/graaf20/Rusitec_meta/Bins_classification_pooled_70_10’: File exists\n",
      "9937393\n",
      "9937394\n"
     ]
    }
   ],
   "source": [
    "string = '''\n",
    "#PBS -l nodes=1:ppn=16\n",
    "#PBS -l walltime=4:00:00:00\n",
    "#PBS -l mem=40gb\n",
    "#PBS -S /bin/bash\n",
    "source $HOME/miniconda3/etc/profile.d/conda.sh\n",
    "conda activate metawrap\n",
    "export TMPDIR=$TMPDIR\n",
    "metawrap classify_bins -b %s -o %s -t 16\n",
    "conda deactivate\n",
    "'''\n",
    "BC = ws+'/Bins_classification_pooled_70_10'\n",
    "RA = ws+'/Bins_reassembly_pooled_70_10'\n",
    "!mkdir $BC\n",
    "import os\n",
    "for bs in bss:\n",
    "  if bs in ['RSP','RF']: continue\n",
    "  out = BC+'/%s' % bs\n",
    "  bra = RA+'/%s/reassembled_bins'% bs\n",
    "  if os.path.exists(out): continue\n",
    "  bash(string%(bra,out),'%s_taxabins_pooled'%bs,'long')"
   ]
  },
  {
   "cell_type": "markdown",
   "id": "24dc9222",
   "metadata": {},
   "source": [
    "# Functionally annotate bins"
   ]
  },
  {
   "cell_type": "markdown",
   "id": "1dfd4a06",
   "metadata": {},
   "source": [
    "### By samples"
   ]
  },
  {
   "cell_type": "code",
   "execution_count": 98,
   "id": "23ee6c1b",
   "metadata": {
    "collapsed": true,
    "jupyter": {
     "outputs_hidden": true
    },
    "tags": []
   },
   "outputs": [
    {
     "name": "stdout",
     "output_type": "stream",
     "text": [
      "mkdir: cannot create directory ‘/beegfs/work/graaf20/Rusitec_meta/Bins_annotations_separated_70_10’: File exists\n",
      "9931986\n",
      "9931987\n",
      "9931988\n",
      "9931989\n",
      "9931990\n",
      "9931991\n",
      "9931992\n",
      "9931993\n",
      "9931994\n",
      "9931995\n",
      "9931996\n",
      "9931997\n",
      "9931998\n",
      "9931999\n",
      "9932000\n",
      "9932001\n",
      "9932002\n",
      "9932003\n",
      "9932004\n",
      "9932005\n",
      "9932006\n",
      "9932007\n",
      "9932008\n",
      "9932009\n",
      "9932010\n",
      "9932011\n",
      "9932012\n",
      "9932013\n",
      "9932014\n",
      "9932015\n",
      "9932016\n",
      "9932017\n",
      "9932018\n",
      "9932019\n",
      "9932020\n",
      "9932021\n",
      "9932022\n",
      "9932023\n",
      "9932024\n",
      "9932025\n",
      "9932026\n",
      "9932027\n",
      "9932028\n",
      "9932029\n",
      "9932030\n",
      "9932031\n",
      "9932032\n",
      "9932033\n",
      "9932034\n",
      "9932035\n",
      "9932036\n"
     ]
    }
   ],
   "source": [
    "string = '''\n",
    "#PBS -l nodes=1:ppn=6\n",
    "#PBS -l walltime=06:00:00\n",
    "#PBS -l mem=20gb\n",
    "#PBS -S /bin/bash\n",
    "source $HOME/miniconda3/etc/profile.d/conda.sh\n",
    "conda activate metawrap\n",
    "export TMPDIR=$TMPDIR\n",
    "metaWRAP annotate_bins -o %s -t 6 -b %s\n",
    "conda deactivate\n",
    "'''\n",
    "BA = ws+'/Bins_annotations_separated_70_10'\n",
    "RA = ws+'/Bins_reassembly_separated_70_10'\n",
    "!mkdir $BA\n",
    "import os\n",
    "for read in reads:\n",
    "  #if read not in ['1']: continue\n",
    "  out = BA+'/%s' % read\n",
    "  bra = RA+'/%s/reassembled_bins'% read\n",
    "  if os.path.exists(out): continue\n",
    "  bash(string%(out,bra),'%s_anotbins'%read,'short')"
   ]
  },
  {
   "cell_type": "markdown",
   "id": "3761a915",
   "metadata": {},
   "source": [
    "### Pooled"
   ]
  },
  {
   "cell_type": "code",
   "execution_count": 8,
   "id": "97010722",
   "metadata": {
    "tags": []
   },
   "outputs": [
    {
     "name": "stdout",
     "output_type": "stream",
     "text": [
      "mkdir: cannot create directory ‘/beegfs/work/graaf20/Rusitec_meta/Bins_annotations_pooled_70_10’: File exists\n",
      "9937397\n",
      "9937398\n"
     ]
    }
   ],
   "source": [
    "string = '''\n",
    "#PBS -l nodes=1:ppn=12\n",
    "#PBS -l walltime=4:00:00:00\n",
    "#PBS -l mem=40gb\n",
    "#PBS -S /bin/bash\n",
    "source $HOME/miniconda3/etc/profile.d/conda.sh\n",
    "conda activate metawrap\n",
    "export TMPDIR=$TMPDIR\n",
    "metaWRAP annotate_bins -o %s -t 12 -b %s\n",
    "conda deactivate\n",
    "'''\n",
    "BA = ws+'/Bins_annotations_pooled_70_10'\n",
    "RA = ws+'/Bins_reassembly_pooled_70_10'\n",
    "!mkdir $BA\n",
    "import os\n",
    "for bs in bss:\n",
    "  if bs in ['RSP','RF']: continue\n",
    "  out = BA+'/%s' % bs\n",
    "  bra = RA+'/%s/reassembled_bins'% bs\n",
    "  if os.path.exists(out): continue\n",
    "  bash(string%(out,bra),'%s_anotbins_pooled'%bs,'long')"
   ]
  },
  {
   "cell_type": "code",
   "execution_count": 3,
   "id": "67e8c317",
   "metadata": {},
   "outputs": [],
   "source": [
    "#!rm -r Bins_annotations_pooled_70_10 Bins_annotations_separated_70_10\n",
    "!rm *.sh.*"
   ]
  },
  {
   "cell_type": "markdown",
   "id": "7028f786",
   "metadata": {},
   "source": [
    "# Clean up!!!"
   ]
  },
  {
   "cell_type": "code",
   "execution_count": 5,
   "id": "464c738a",
   "metadata": {},
   "outputs": [],
   "source": [
    "# clean metaspades directory\n",
    "keep = ['Quast','contigs.fasta','contigs.paths','scaffolds.fasta','scaffolds.paths','spades.log']\n",
    "for bs in bss:\n",
    "  for file in os.listdir('Metaspades_pooled/%s'%bs):\n",
    "    if file not in keep:\n",
    "      path = 'Metaspades_pooled/%s/%s'%(bs,file)\n",
    "      !rm -rf $path"
   ]
  },
  {
   "cell_type": "code",
   "execution_count": 4,
   "id": "773694fe",
   "metadata": {
    "tags": []
   },
   "outputs": [],
   "source": [
    "# clean megahit directory\n",
    "keep = ['Quast','final.contigs.fa','log']\n",
    "for read in reads:\n",
    "  for file in os.listdir('Megahit/%s'%read):\n",
    "    if file not in keep:\n",
    "      path = 'Megahit/%s/%s'%(read,file)\n",
    "      !rm -rf $path"
   ]
  },
  {
   "cell_type": "code",
   "execution_count": 7,
   "id": "646d2057",
   "metadata": {},
   "outputs": [],
   "source": [
    "!rm -rf Reference"
   ]
  },
  {
   "cell_type": "markdown",
   "id": "814a00f7-389e-48ad-a41f-7fc4255bcd74",
   "metadata": {
    "tags": []
   },
   "source": [
    "# SqueezeMeta"
   ]
  },
  {
   "cell_type": "code",
   "execution_count": 9,
   "id": "ad952c4c-0f3a-4b66-ba02-aa792fb5baa4",
   "metadata": {},
   "outputs": [],
   "source": [
    "!rm -rf *_SqueezeMeta_pooled"
   ]
  },
  {
   "cell_type": "code",
   "execution_count": 10,
   "id": "c3794811-2dac-415c-8302-0e19c985f775",
   "metadata": {},
   "outputs": [
    {
     "name": "stdout",
     "output_type": "stream",
     "text": [
      "9971572\n",
      "9971573\n",
      "9971574\n",
      "9971575\n"
     ]
    }
   ],
   "source": [
    "string = '''\n",
    "#PBS -l nodes=1:ppn=%s\n",
    "#PBS -l walltime=%s\n",
    "#PBS -l mem=%sgb\n",
    "#PBS -S /bin/bash\n",
    "source $HOME/miniconda3/etc/profile.d/conda.sh\n",
    "conda activate SqueezeMeta\n",
    "cd %s\n",
    "export TMPDIR=$TMPDIR\n",
    "SqueezeMeta.pl -m coassembly -p %s -s %s -f Pooled -extassembly %s --nobins -t %s\n",
    "conda deactivate\n",
    "'''\n",
    "\n",
    "for bs in bss:\n",
    "  #if bs not in ['FL','FR']: continue\n",
    "  threads,time,mem,queue= 12,'07:00:00:00',64,'long'\n",
    "  if bs in ['FL','FR']:\n",
    "    threads,time,mem,queue= 16,'15:00:00:00',128,'smp'\n",
    "  project = bs+'_SqueezeMeta_pooled'\n",
    "  samples = pd.DataFrame()\n",
    "  for i,f in enumerate(sorted([x for x in os.listdir('Pooled') if '_%s_'%bs in x])):\n",
    "    samples.loc[i,'sampleID'] = 'sample'+f.split('_')[0]\n",
    "    samples.loc[i,'sampleName'] = f\n",
    "    samples.loc[i,'pair'] = 'pair'+f.split('_')[-1].split('.')[0]\n",
    "  samplesDF = '%s.tsv'%bs\n",
    "  samples.to_csv(samplesDF, sep='\\t',header=False,index=False)\n",
    "  assembly = 'Metaspades_pooled/%s/scaffolds.fasta' % bs\n",
    "  bash(string%(threads,time,mem,ws,project,samplesDF,assembly,threads),'%s_SqueezeMeta_pooled'%bs,queue)"
   ]
  },
  {
   "cell_type": "code",
   "execution_count": 39,
   "id": "8259624a-ec13-414d-a4a6-396cc41aa50a",
   "metadata": {},
   "outputs": [
    {
     "name": "stdout",
     "output_type": "stream",
     "text": [
      "9970399\n"
     ]
    }
   ],
   "source": [
    "string = '''\n",
    "#PBS -l nodes=1:ppn=4\n",
    "#PBS -l walltime=06:00:00\n",
    "#PBS -l mem=10\n",
    "#PBS -S /bin/bash\n",
    "source $HOME/miniconda3/etc/profile.d/conda.sh\n",
    "conda activate SqueezeMeta\n",
    "cd %s\n",
    "export TMPDIR=$TMPDIR\n",
    "SqueezeMeta.pl -m coassembly -p Hadza -s %s/test.samples -f %s/raw/\n",
    "conda deactivate\n",
    "'''\n",
    "test = '/beegfs/work/graaf20/Databases/SqueezeMeta/test/'\n",
    "\n",
    "bash(string%(ws,test,test),'test','short')"
   ]
  },
  {
   "cell_type": "code",
   "execution_count": 3,
   "id": "e7270523-07d8-4ee5-b7c2-ec05728d200a",
   "metadata": {},
   "outputs": [
    {
     "name": "stdout",
     "output_type": "stream",
     "text": [
      "10010841\n",
      "10010842\n",
      "10010843\n",
      "10010844\n"
     ]
    }
   ],
   "source": [
    "string = '''\n",
    "#PBS -l nodes=1:ppn=%s\n",
    "#PBS -l walltime=%s\n",
    "#PBS -l mem=%sgb\n",
    "#PBS -S /bin/bash\n",
    "source $HOME/miniconda3/etc/profile.d/conda.sh\n",
    "conda activate SqueezeMeta\n",
    "cd %s\n",
    "export TMPDIR=$TMPDIR\n",
    "SqueezeMeta.pl -m coassembly -p %s -s %s -f Pooled -extassembly %s -t %s\n",
    "conda deactivate\n",
    "'''\n",
    "\n",
    "for bs in bss:\n",
    "  #if bs not in ['RSP']: continue\n",
    "  threads,time,mem,queue= 12,'8:00:00:00',128,'smp'\n",
    "  if bs in ['FL','FR']:\n",
    "    threads,time,mem,queue= 24,'16:00:00:00',256,'smp'\n",
    "  project = bs+'_SqueezeMeta_coassembly'\n",
    "  samples = pd.DataFrame()\n",
    "  for i,f in enumerate(sorted([x for x in os.listdir('Pooled') if '_%s_'%bs in x])):\n",
    "    samples.loc[i,'sampleID'] = 'sample'+f.split('_')[0]\n",
    "    samples.loc[i,'sampleName'] = f\n",
    "    samples.loc[i,'pair'] = 'pair'+f.split('_')[-1].split('.')[0]\n",
    "  samplesDF = '%s.tsv'%bs\n",
    "  samples.to_csv(samplesDF, sep='\\t',header=False,index=False)\n",
    "  assembly = 'Metaspades_pooled/%s/scaffolds.fasta' % bs\n",
    "  bash(string%(threads,time,mem,ws,project,samplesDF,assembly,threads),'%s_SqueezeMeta_coassembly'%bs,queue)"
   ]
  },
  {
   "cell_type": "code",
   "execution_count": 51,
   "id": "490ad5f4-7b01-44c2-a8d6-db8cdd1fb6e4",
   "metadata": {},
   "outputs": [
    {
     "name": "stdout",
     "output_type": "stream",
     "text": [
      "10024625\n"
     ]
    }
   ],
   "source": [
    "string = '''\n",
    "#PBS -l nodes=1:ppn=%s\n",
    "#PBS -l walltime=%s\n",
    "#PBS -l mem=%sgb\n",
    "#PBS -S /bin/bash\n",
    "source $HOME/miniconda3/etc/profile.d/conda.sh\n",
    "conda activate SqueezeMeta\n",
    "cd %s\n",
    "export TMPDIR=$TMPDIR\n",
    "restart.pl %s\n",
    "conda deactivate\n",
    "'''\n",
    "\n",
    "for bs in bss:\n",
    "  if bs not in ['FL']: continue\n",
    "  threads,time,mem,queue= 12,'8:00:00:00',128,'smp'\n",
    "  if bs in ['FL','FR']:\n",
    "    threads,time,mem,queue= 24,'16:00:00:00',256,'smp'\n",
    "  project = bs+'_SqueezeMeta_coassembly'\n",
    "  bash(string%(threads,time,mem,ws,project),'%s_SqueezeMeta_restart'%bs,queue)"
   ]
  },
  {
   "cell_type": "markdown",
   "id": "fd7fcfd0-0454-45a6-9e9b-475e458caaad",
   "metadata": {},
   "source": [
    "## Export SqueezeMeta outputs\n",
    "## iTOL"
   ]
  },
  {
   "cell_type": "code",
   "execution_count": 14,
   "id": "04ed39e6-d264-489d-9074-b794a6065a66",
   "metadata": {
    "tags": []
   },
   "outputs": [
    {
     "name": "stdout",
     "output_type": "stream",
     "text": [
      "10024557\n",
      "10024558\n",
      "10024559\n",
      "10024560\n"
     ]
    }
   ],
   "source": [
    "string = '''\n",
    "#PBS -l nodes=1:ppn=2\n",
    "#PBS -l walltime=02:00:00\n",
    "#PBS -l mem=5gb\n",
    "#PBS -S /bin/bash\n",
    "source $HOME/miniconda3/etc/profile.d/conda.sh\n",
    "conda activate SqueezeMeta\n",
    "cd %s\n",
    "sqm2itol.pl -completion 50 -classification metacyc %s\n",
    "cd %s/ext_tables\n",
    "mkdir iTOL\n",
    "mv *.txt iTOL\n",
    "mv *.tar iTOL\n",
    "mv *.nw iTOL\n",
    "conda deactivate\n",
    "'''\n",
    "\n",
    "for bs in bss:\n",
    "  #if bs not in ['FL']: continue\n",
    "  project = bs+'_SqueezeMeta_coassembly'\n",
    "  bash(string%(ws,project,project),'%s_SqueezeMeta_iTOL'%bs,'short')"
   ]
  },
  {
   "cell_type": "markdown",
   "id": "74634b81-63b9-456b-b5a7-ad723ecaab79",
   "metadata": {},
   "source": [
    "## iPath"
   ]
  },
  {
   "cell_type": "code",
   "execution_count": 18,
   "id": "7d3e093f-8f27-4fd0-b559-433778d6392a",
   "metadata": {},
   "outputs": [
    {
     "name": "stdout",
     "output_type": "stream",
     "text": [
      "10024571\n",
      "10024572\n",
      "10024573\n",
      "10024574\n"
     ]
    }
   ],
   "source": [
    "string = '''\n",
    "#PBS -l nodes=1:ppn=2\n",
    "#PBS -l walltime=02:00:00\n",
    "#PBS -l mem=5gb\n",
    "#PBS -S /bin/bash\n",
    "source $HOME/miniconda3/etc/profile.d/conda.sh\n",
    "conda activate SqueezeMeta\n",
    "cd %s\n",
    "sqm2ipath.pl %s\n",
    "conda deactivate\n",
    "'''\n",
    "\n",
    "for bs in bss:\n",
    "  #if bs not in ['FL']: continue\n",
    "  project = bs+'_SqueezeMeta_coassembly'\n",
    "  bash(string%(ws,project),'%s_SqueezeMeta_iPath'%bs,'short')"
   ]
  },
  {
   "cell_type": "markdown",
   "id": "54a730b6-be84-4279-b519-ff8672843fbb",
   "metadata": {},
   "source": [
    "## Pavian"
   ]
  },
  {
   "cell_type": "code",
   "execution_count": 21,
   "id": "4f8eab5d-2844-4254-bd56-cddc7143b8e8",
   "metadata": {},
   "outputs": [
    {
     "name": "stdout",
     "output_type": "stream",
     "text": [
      "10024579\n"
     ]
    }
   ],
   "source": [
    "string = '''\n",
    "#PBS -l nodes=1:ppn=2\n",
    "#PBS -l walltime=00:20:00\n",
    "#PBS -l mem=4gb\n",
    "#PBS -S /bin/bash\n",
    "source $HOME/miniconda3/etc/profile.d/conda.sh\n",
    "conda activate SqueezeMeta\n",
    "cd %s\n",
    "sqm2pavian.pl RSP_SqueezeMeta_coassembly\n",
    "mkdir RSP_SqueezeMeta_coassembly/ext_tables/Pavian\n",
    "mv *.pavian RSP_SqueezeMeta_coassembly/ext_tables/Pavian\n",
    "sqm2pavian.pl RF_SqueezeMeta_coassembly\n",
    "mkdir RF_SqueezeMeta_coassembly/ext_tables/Pavian\n",
    "mv *.pavian RF_SqueezeMeta_coassembly/ext_tables/Pavian\n",
    "sqm2pavian.pl FR_SqueezeMeta_coassembly\n",
    "mkdir FR_SqueezeMeta_coassembly/ext_tables/Pavian\n",
    "mv *.pavian FR_SqueezeMeta_coassembly/ext_tables/Pavian\n",
    "sqm2pavian.pl FL_SqueezeMeta_coassembly\n",
    "mkdir FL_SqueezeMeta_coassembly/ext_tables/Pavian\n",
    "mv *.pavian FL_SqueezeMeta_coassembly/ext_tables/Pavian\n",
    "conda deactivate\n",
    "'''\n",
    "bash(string%(ws),'SqueezeMeta_Pavian','tiny')"
   ]
  },
  {
   "cell_type": "markdown",
   "id": "ea7232c5-bbcb-4d46-b116-a58f3fecea30",
   "metadata": {},
   "source": [
    "## Export tables"
   ]
  },
  {
   "cell_type": "code",
   "execution_count": 61,
   "id": "526f43c2-ceb9-44b9-9b34-f45da5c98e91",
   "metadata": {},
   "outputs": [
    {
     "name": "stdout",
     "output_type": "stream",
     "text": [
      "10025666\n",
      "10025667\n",
      "10025668\n",
      "10025669\n"
     ]
    }
   ],
   "source": [
    "string = '''\n",
    "#PBS -l nodes=1:ppn=2\n",
    "#PBS -l walltime=04:00:00\n",
    "#PBS -l mem=64gb\n",
    "#PBS -S /bin/bash\n",
    "source $HOME/miniconda3/etc/profile.d/conda.sh\n",
    "conda activate SqueezeMeta\n",
    "cd %s\n",
    "sqm2tables.py %s %s/ext_tables/Tables\n",
    "conda deactivate\n",
    "'''\n",
    "\n",
    "for bs in bss:\n",
    "  #if bs not in ['FL']: continue\n",
    "  project = bs+'_SqueezeMeta_coassembly'\n",
    "  bash(string%(ws,project,project),'%s_SqueezeMeta_tables'%bs,'short')"
   ]
  },
  {
   "cell_type": "markdown",
   "id": "cfabaefa-0ca6-4e93-93f5-03ab6bc178e4",
   "metadata": {},
   "source": [
    "## Anvio"
   ]
  },
  {
   "cell_type": "code",
   "execution_count": 44,
   "id": "84e52a31-ea82-4d7e-ae35-5c9a55a68d91",
   "metadata": {},
   "outputs": [
    {
     "name": "stdout",
     "output_type": "stream",
     "text": [
      "10024622\n",
      "10024623\n"
     ]
    }
   ],
   "source": [
    "string = '''\n",
    "#PBS -l nodes=1:ppn=2\n",
    "#PBS -l walltime=02:00:00\n",
    "#PBS -l mem=15gb\n",
    "#PBS -S /bin/bash\n",
    "source $HOME/miniconda3/etc/profile.d/conda.sh\n",
    "conda activate SqueezeMeta\n",
    "cd %s\n",
    "sqm2anvio.pl %s %s/ext_tables/Anvio 7\n",
    "conda deactivate\n",
    "'''\n",
    "\n",
    "for bs in bss:\n",
    "  if bs in ['FL','RSP']: continue\n",
    "  project = bs+'_SqueezeMeta_coassembly'\n",
    "  bash(string%(ws,project,project),'%s_SqueezeMeta_anvio'%bs,'short')"
   ]
  },
  {
   "cell_type": "code",
   "execution_count": 39,
   "id": "faf389fa",
   "metadata": {},
   "outputs": [
    {
     "name": "stdout",
     "output_type": "stream",
     "text": [
      "2,2G\tHUMAnN\n"
     ]
    }
   ],
   "source": [
    "!du -sh HUMAnN"
   ]
  },
  {
   "cell_type": "code",
   "execution_count": 64,
   "id": "90b12205",
   "metadata": {
    "tags": []
   },
   "outputs": [
    {
     "name": "stdout",
     "output_type": "stream",
     "text": [
      "\n",
      "mgmt02: \n",
      "                                                                                  Req'd       Req'd       Elap\n",
      "Job ID                  Username    Queue    Jobname          SessID  NDS   TSK   Memory      Time    S   Time\n",
      "----------------------- ----------- -------- ---------------- ------ ----- ------ --------- --------- - ---------\n",
      "10024625                ho_graaf20  smp      FL_SqueezeMeta_r  34294     1     24     256gb 384:00:00 R  01:54:59\n",
      "10025666                ho_graaf20  short    RSP_SqueezeMeta_  22277     1      2      64gb  04:00:00 R  00:04:13\n",
      "10025667                ho_graaf20  short    RF_SqueezeMeta_t  16168     1      2      64gb  04:00:00 R  00:04:13\n",
      "10025668                ho_graaf20  short    FR_SqueezeMeta_t  29346     1      2      64gb  04:00:00 R  00:04:13\n",
      "10025669                ho_graaf20  short    FL_SqueezeMeta_t  19706     1      2      64gb  04:00:00 R  00:04:13\n"
     ]
    }
   ],
   "source": [
    "!qstat -u ho_graaf20"
   ]
  },
  {
   "cell_type": "code",
   "execution_count": 2,
   "id": "05fa7d90",
   "metadata": {},
   "outputs": [],
   "source": [
    "!qdel 10011744"
   ]
  },
  {
   "cell_type": "code",
   "execution_count": 9,
   "id": "49d6ff49",
   "metadata": {
    "tags": []
   },
   "outputs": [
    {
     "name": "stdout",
     "output_type": "stream",
     "text": [
      "Job ID                    Name             User            Time Use S Queue\n",
      "------------------------- ---------------- --------------- -------- - -----\n",
      "9891402                    x005_y0001       tu_psidu01      3389:50: R smp            \n"
     ]
    }
   ],
   "source": [
    "!qselect -q smp | xargs qstat"
   ]
  },
  {
   "cell_type": "code",
   "execution_count": 34,
   "id": "3157296e-b285-45c4-850e-f85639eb92f4",
   "metadata": {},
   "outputs": [
    {
     "name": "stdout",
     "output_type": "stream",
     "text": [
      "mv: cannot stat ‘RSP_SqueezeMeta_coassembly/ext_tables/*.txt’: No such file or directory\n",
      "mv: cannot stat ‘RSP_SqueezeMeta_coassembly/ext_tables/*.tar’: No such file or directory\n",
      "mv: cannot stat ‘RSP_SqueezeMeta_coassembly/ext_tables/*.nw’: No such file or directory\n",
      "mv: cannot stat ‘RSP_SqueezeMeta_coassembly/ext_tables/*.nw’: No such file or directory\n"
     ]
    }
   ],
   "source": [
    "!mv RSP_SqueezeMeta_coassembly/ext_tables/*.txt RSP_SqueezeMeta_coassembly/ext_tables/Tables\n",
    "!mv RSP_SqueezeMeta_coassembly/ext_tables/*.tar FR_SqueezeMeta_coassembly/ext_tables/Tables\n",
    "!mv RSP_SqueezeMeta_coassembly/ext_tables/*.nw FL_SqueezeMeta_coassembly/ext_tables/Tables\n",
    "!mv RSP_SqueezeMeta_coassembly/ext_tables/*.nw RF_SqueezeMeta_coassembly/ext_tables/Tables"
   ]
  },
  {
   "cell_type": "code",
   "execution_count": 60,
   "id": "f434df78-3b26-470a-b44b-ce00846b5a3b",
   "metadata": {},
   "outputs": [],
   "source": [
    "!rm -rf RSP_SqueezeMeta_coassembly/ext_tables/Tables\n",
    "!rm -rf FR_SqueezeMeta_coassembly/ext_tables/Tables\n",
    "!rm -rf RF_SqueezeMeta_coassembly/ext_tables/Tables\n",
    "!rm -rf FL_SqueezeMeta_coassembly/ext_tables/Tables"
   ]
  },
  {
   "cell_type": "markdown",
   "id": "26eaecb0-4268-4576-a80e-ef3f5025c4e9",
   "metadata": {},
   "source": [
    "# Stat. analysis"
   ]
  },
  {
   "cell_type": "code",
   "execution_count": null,
   "id": "35498ddf-7148-49da-8c3b-ad3a5d2b8d09",
   "metadata": {},
   "outputs": [],
   "source": [
    "import pandas as pd\n"
   ]
  }
 ],
 "metadata": {
  "kernelspec": {
   "display_name": "Python 3",
   "language": "python",
   "name": "python3"
  },
  "language_info": {
   "codemirror_mode": {
    "name": "ipython",
    "version": 3
   },
   "file_extension": ".py",
   "mimetype": "text/x-python",
   "name": "python",
   "nbconvert_exporter": "python",
   "pygments_lexer": "ipython3",
   "version": "3.9.12"
  }
 },
 "nbformat": 4,
 "nbformat_minor": 5
}
